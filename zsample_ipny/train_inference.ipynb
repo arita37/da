{
 "cells": [
  {
   "cell_type": "code",
   "execution_count": 1,
   "metadata": {},
   "outputs": [],
   "source": [
    "import gc\n",
    "import os\n",
    "import logging\n",
    "import datetime\n",
    "import warnings\n",
    "import numpy as np\n",
    "import pandas as pd\n",
    "import seaborn as sns\n",
    "import lightgbm as lgb\n",
    "from tqdm import tqdm_notebook\n",
    "import matplotlib.pyplot as plt\n",
    "from sklearn.metrics import mean_squared_error\n",
    "from sklearn.metrics import roc_auc_score, roc_curve\n",
    "from sklearn.model_selection import StratifiedKFold, KFold\n",
    "warnings.filterwarnings('ignore')"
   ]
  },
  {
   "cell_type": "code",
   "execution_count": 2,
   "metadata": {},
   "outputs": [],
   "source": [
    "train_df = pd.read_csv('./data/address_matching_data.csv')\n",
    "train_df.loc[train_df['is_match']==-1, 'is_match'] = 0\n",
    "test_df = pd.read_csv('./data/address_matching_test.csv')\n",
    "test_df['is_match'] = np.nan"
   ]
  },
  {
   "cell_type": "code",
   "execution_count": 3,
   "metadata": {},
   "outputs": [],
   "source": [
    "# One-hot encoding for categorical columns with get_dummies\n",
    "def one_hot_encoder(df, nan_as_category = True):\n",
    "    original_columns = list(df.columns)\n",
    "    categorical_columns = [col for col in df.columns if df[col].dtype == 'object']\n",
    "    df = pd.get_dummies(df, columns= categorical_columns, dummy_na= nan_as_category)\n",
    "    new_columns = [c for c in df.columns if c not in original_columns]\n",
    "    return df, new_columns"
   ]
  },
  {
   "cell_type": "code",
   "execution_count": 4,
   "metadata": {},
   "outputs": [
    {
     "name": "stdout",
     "output_type": "stream",
     "text": [
      "skip  name_levenshtein_simple\n",
      "skip  name_trigram_simple\n",
      "skip  name_levenshtein_term\n",
      "skip  name_trigram_term\n"
     ]
    }
   ],
   "source": [
    "df_ = train_df.append(test_df)\n",
    "use_columns = [s for s in df_.columns if s not in ['id', 'is_match']]\n",
    "df = df_[use_columns]\n",
    "\n",
    "# handle NA\n",
    "for c in df.columns:\n",
    "    if df[c].dtype=='object':\n",
    "        df.loc[df[c]=='?', c]=0\n",
    "    else:\n",
    "        print('skip ', c)"
   ]
  },
  {
   "cell_type": "code",
   "execution_count": 5,
   "metadata": {},
   "outputs": [],
   "source": [
    "# convert to matrix\n",
    "categories = ['phone_equality', 'fax_equality', 'street_number_equality']\n",
    "for c in df.columns:\n",
    "    if c in categories: continue\n",
    "    df[c] = df[c].astype(np.float32)\n",
    "    \n",
    "df, cols = one_hot_encoder(df, nan_as_category=False)"
   ]
  },
  {
   "cell_type": "code",
   "execution_count": 6,
   "metadata": {},
   "outputs": [],
   "source": [
    "df['is_match'] = df_['is_match']"
   ]
  },
  {
   "cell_type": "code",
   "execution_count": null,
   "metadata": {},
   "outputs": [],
   "source": []
  },
  {
   "cell_type": "code",
   "execution_count": 13,
   "metadata": {},
   "outputs": [],
   "source": [
    "# LightGBM GBDT with KFold or Stratified KFold\n",
    "def kfold_lightgbm(train_df, num_folds, stratified = False, debug= False):\n",
    "    # Cross validation model\n",
    "    if stratified:\n",
    "        folds = StratifiedKFold(n_splits= num_folds, shuffle=True, random_state=326)\n",
    "    else:\n",
    "        folds = KFold(n_splits= num_folds, shuffle=True, random_state=326)\n",
    "\n",
    "    # Create arrays and dataframes to store results\n",
    "    oof_preds = np.zeros(train_df.shape[0])\n",
    "    feature_importance_df = pd.DataFrame()\n",
    "    feats = [f for f in train_df.columns if f not in FEATS_EXCLUDED]\n",
    "    \n",
    "    regs = []\n",
    "    # k-fold\n",
    "    for n_fold, (train_idx, valid_idx) in enumerate(folds.split(train_df[feats], train_df['is_match'])):\n",
    "        train_x, train_y = train_df[feats].iloc[train_idx], train_df['is_match'].iloc[train_idx]\n",
    "        valid_x, valid_y = train_df[feats].iloc[valid_idx], train_df['is_match'].iloc[valid_idx]\n",
    "\n",
    "        # set data structure\n",
    "        lgb_train = lgb.Dataset(train_x,\n",
    "                                label=train_y,\n",
    "                                free_raw_data=False)\n",
    "        lgb_test = lgb.Dataset(valid_x,\n",
    "                               label=valid_y,\n",
    "                               free_raw_data=False)\n",
    "\n",
    "        # params optimized by optuna\n",
    "        params ={\n",
    "                   'max_depth':-1,\n",
    "                   'n_estimators':300,\n",
    "                   'learning_rate':0.05,\n",
    "                   'num_leaves':2**12-1,\n",
    "                   'colsample_bytree':0.28,\n",
    "                   'objective':'binary', \n",
    "                   'n_jobs':-1\n",
    "                }\n",
    "\n",
    "        reg = lgb.train(\n",
    "                        params,\n",
    "                        lgb_train,\n",
    "                        valid_sets=[lgb_train, lgb_test],\n",
    "                        valid_names=['train', 'test'],\n",
    "                        num_boost_round=10000,\n",
    "                        early_stopping_rounds= 200,\n",
    "                        verbose_eval=100\n",
    "                        )\n",
    "        regs.append(reg)\n",
    "\n",
    "    return regs"
   ]
  },
  {
   "cell_type": "code",
   "execution_count": 14,
   "metadata": {},
   "outputs": [],
   "source": [
    "# separate train set and test set\n",
    "train_df = df[df['is_match'].notnull()]\n",
    "test_df = df[df['is_match'].isnull()]\n",
    "\n",
    "FEATS_EXCLUDED = ['is_match']"
   ]
  },
  {
   "cell_type": "code",
   "execution_count": 16,
   "metadata": {},
   "outputs": [
    {
     "name": "stdout",
     "output_type": "stream",
     "text": [
      "Training until validation scores don't improve for 200 rounds.\n",
      "[100]\ttrain's binary_logloss: 0.0874246\ttest's binary_logloss: 0.128062\n",
      "[200]\ttrain's binary_logloss: 0.0399507\ttest's binary_logloss: 0.118466\n",
      "[300]\ttrain's binary_logloss: 0.0233583\ttest's binary_logloss: 0.126701\n",
      "Did not meet early stopping. Best iteration is:\n",
      "[300]\ttrain's binary_logloss: 0.0233583\ttest's binary_logloss: 0.126701\n",
      "Training until validation scores don't improve for 200 rounds.\n",
      "[100]\ttrain's binary_logloss: 0.0838901\ttest's binary_logloss: 0.133166\n",
      "[200]\ttrain's binary_logloss: 0.0395979\ttest's binary_logloss: 0.126252\n",
      "[300]\ttrain's binary_logloss: 0.0239325\ttest's binary_logloss: 0.137425\n",
      "Did not meet early stopping. Best iteration is:\n",
      "[300]\ttrain's binary_logloss: 0.0239325\ttest's binary_logloss: 0.137425\n"
     ]
    }
   ],
   "source": [
    "# start training on train_df\n",
    "regs = kfold_lightgbm(train_df, num_folds=5, stratified=False, debug=False)"
   ]
  },
  {
   "cell_type": "code",
   "execution_count": 17,
   "metadata": {},
   "outputs": [],
   "source": [
    "# start testing on test_df\n",
    "sub_preds = np.zeros(test_df.shape[0])\n",
    "feats = [f for f in train_df.columns if f not in FEATS_EXCLUDED]\n",
    "for reg in regs:\n",
    "    sub_preds += reg.predict(test_df[feats], num_iteration=reg.best_iteration) / len(regs)"
   ]
  },
  {
   "cell_type": "code",
   "execution_count": 18,
   "metadata": {},
   "outputs": [],
   "source": [
    "preds = sub_preds.copy()\n",
    "preds[preds<0.5]=-1\n",
    "preds[preds>0.5]=1"
   ]
  },
  {
   "cell_type": "code",
   "execution_count": 19,
   "metadata": {},
   "outputs": [],
   "source": [
    "test_df = pd.read_csv('./data/address_matching_test.csv')\n",
    "test_df['is_match'] = preds.astype(int)\n",
    "test_df = test_df.reset_index()\n",
    "test_df[['id', 'is_match']].to_csv('result.csv', index=False)"
   ]
  },
  {
   "cell_type": "code",
   "execution_count": null,
   "metadata": {},
   "outputs": [],
   "source": []
  },
  {
   "cell_type": "code",
   "execution_count": null,
   "metadata": {},
   "outputs": [],
   "source": []
  }
 ],
 "metadata": {
  "kernelspec": {
   "display_name": "Python 3",
   "language": "python",
   "name": "python3"
  },
  "language_info": {
   "codemirror_mode": {
    "name": "ipython",
    "version": 3
   },
   "file_extension": ".py",
   "mimetype": "text/x-python",
   "name": "python",
   "nbconvert_exporter": "python",
   "pygments_lexer": "ipython3",
   "version": "3.5.3"
  }
 },
 "nbformat": 4,
 "nbformat_minor": 2
}
