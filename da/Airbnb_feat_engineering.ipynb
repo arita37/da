{
 "cells": [
  {
   "cell_type": "code",
   "execution_count": 1,
   "metadata": {},
   "outputs": [
    {
     "name": "stdout",
     "output_type": "stream",
     "text": [
      "No module named 'cufflinks'\n",
      "No module named 'pandas_profiling'\n",
      "os.getcwd /home/maxime/Documents/da-dev/da\n"
     ]
    }
   ],
   "source": [
    "from util_plot import *\n",
    "from util_feature import * \n",
    "from util_other import *\n",
    "from util_model import * "
   ]
  },
  {
   "cell_type": "code",
   "execution_count": 2,
   "metadata": {},
   "outputs": [],
   "source": [
    "file_path = 'data/airbnb/'"
   ]
  },
  {
   "cell_type": "code",
   "execution_count": 3,
   "metadata": {},
   "outputs": [],
   "source": [
    "# Unzip all the docs as csv obviously\n",
    "\n",
    "neighbourhoods = file_path+'neighbourhoods.csv'\n",
    "listings = file_path+'listings.csv'\n",
    "listings_summary = file_path+'listings_summary.csv'\n",
    "reviews = file_path+'reviews.csv'\n",
    "reviews_summary = file_path+'reviews_summary.csv'"
   ]
  },
  {
   "cell_type": "code",
   "execution_count": 4,
   "metadata": {},
   "outputs": [],
   "source": [
    "df_neighb = pd.read_csv(neighbourhoods)\n",
    "df_list = pd.read_csv(listings)\n",
    "df_list_sum = pd.read_csv(listings_summary)\n",
    "df_rev = pd.read_csv(reviews)\n",
    "df_rev_sum = pd.read_csv(reviews_summary)\n",
    "\n",
    "list_dataframes = [df_neighb, df_list, df_list_sum, df_rev, df_rev_sum]"
   ]
  },
  {
   "cell_type": "code",
   "execution_count": 5,
   "metadata": {},
   "outputs": [
    {
     "name": "stdout",
     "output_type": "stream",
     "text": [
      "shape of dataframe 1 is: (139, 2)\n",
      "shape of dataframe 2 is: (22552, 16)\n",
      "shape of dataframe 3 is: (453, 96)\n",
      "shape of dataframe 4 is: (401963, 2)\n",
      "shape of dataframe 5 is: (15695, 6)\n"
     ]
    }
   ],
   "source": [
    "shape_type_df = pd_dflist_shape(list_dataframes)"
   ]
  },
  {
   "cell_type": "code",
   "execution_count": 6,
   "metadata": {},
   "outputs": [
    {
     "data": {
      "text/html": [
       "<div>\n",
       "<style scoped>\n",
       "    .dataframe tbody tr th:only-of-type {\n",
       "        vertical-align: middle;\n",
       "    }\n",
       "\n",
       "    .dataframe tbody tr th {\n",
       "        vertical-align: top;\n",
       "    }\n",
       "\n",
       "    .dataframe thead th {\n",
       "        text-align: right;\n",
       "    }\n",
       "</style>\n",
       "<table border=\"1\" class=\"dataframe\">\n",
       "  <thead>\n",
       "    <tr style=\"text-align: right;\">\n",
       "      <th></th>\n",
       "      <th>neighbourhood_group</th>\n",
       "      <th>neighbourhood</th>\n",
       "    </tr>\n",
       "  </thead>\n",
       "  <tbody>\n",
       "    <tr>\n",
       "      <th>0</th>\n",
       "      <td>Charlottenburg-Wilm.</td>\n",
       "      <td>Barstraße</td>\n",
       "    </tr>\n",
       "    <tr>\n",
       "      <th>1</th>\n",
       "      <td>Charlottenburg-Wilm.</td>\n",
       "      <td>Charlottenburg Nord</td>\n",
       "    </tr>\n",
       "    <tr>\n",
       "      <th>2</th>\n",
       "      <td>Charlottenburg-Wilm.</td>\n",
       "      <td>Düsseldorfer Straße</td>\n",
       "    </tr>\n",
       "    <tr>\n",
       "      <th>3</th>\n",
       "      <td>Charlottenburg-Wilm.</td>\n",
       "      <td>Forst Grunewald</td>\n",
       "    </tr>\n",
       "    <tr>\n",
       "      <th>4</th>\n",
       "      <td>Charlottenburg-Wilm.</td>\n",
       "      <td>Grunewald</td>\n",
       "    </tr>\n",
       "  </tbody>\n",
       "</table>\n",
       "</div>"
      ],
      "text/plain": [
       "    neighbourhood_group        neighbourhood\n",
       "0  Charlottenburg-Wilm.            Barstraße\n",
       "1  Charlottenburg-Wilm.  Charlottenburg Nord\n",
       "2  Charlottenburg-Wilm.  Düsseldorfer Straße\n",
       "3  Charlottenburg-Wilm.      Forst Grunewald\n",
       "4  Charlottenburg-Wilm.            Grunewald"
      ]
     },
     "execution_count": 6,
     "metadata": {},
     "output_type": "execute_result"
    }
   ],
   "source": [
    "df_neighb.head()"
   ]
  },
  {
   "cell_type": "code",
   "execution_count": 7,
   "metadata": {},
   "outputs": [
    {
     "data": {
      "text/html": [
       "<div>\n",
       "<style scoped>\n",
       "    .dataframe tbody tr th:only-of-type {\n",
       "        vertical-align: middle;\n",
       "    }\n",
       "\n",
       "    .dataframe tbody tr th {\n",
       "        vertical-align: top;\n",
       "    }\n",
       "\n",
       "    .dataframe thead th {\n",
       "        text-align: right;\n",
       "    }\n",
       "</style>\n",
       "<table border=\"1\" class=\"dataframe\">\n",
       "  <thead>\n",
       "    <tr style=\"text-align: right;\">\n",
       "      <th></th>\n",
       "      <th>id</th>\n",
       "      <th>name</th>\n",
       "      <th>host_id</th>\n",
       "      <th>host_name</th>\n",
       "      <th>neighbourhood_group</th>\n",
       "      <th>neighbourhood</th>\n",
       "      <th>latitude</th>\n",
       "      <th>longitude</th>\n",
       "      <th>room_type</th>\n",
       "      <th>price</th>\n",
       "      <th>minimum_nights</th>\n",
       "      <th>number_of_reviews</th>\n",
       "      <th>last_review</th>\n",
       "      <th>reviews_per_month</th>\n",
       "      <th>calculated_host_listings_count</th>\n",
       "      <th>availability_365</th>\n",
       "    </tr>\n",
       "  </thead>\n",
       "  <tbody>\n",
       "    <tr>\n",
       "      <th>0</th>\n",
       "      <td>2015</td>\n",
       "      <td>Berlin-Mitte Value! Quiet courtyard/very central</td>\n",
       "      <td>2217</td>\n",
       "      <td>Ian</td>\n",
       "      <td>Mitte</td>\n",
       "      <td>Brunnenstr. Süd</td>\n",
       "      <td>52.534537</td>\n",
       "      <td>13.402557</td>\n",
       "      <td>Entire home/apt</td>\n",
       "      <td>60</td>\n",
       "      <td>4</td>\n",
       "      <td>118</td>\n",
       "      <td>2018-10-28</td>\n",
       "      <td>3.76</td>\n",
       "      <td>4</td>\n",
       "      <td>141</td>\n",
       "    </tr>\n",
       "    <tr>\n",
       "      <th>1</th>\n",
       "      <td>2695</td>\n",
       "      <td>Prenzlauer Berg close to Mauerpark</td>\n",
       "      <td>2986</td>\n",
       "      <td>Michael</td>\n",
       "      <td>Pankow</td>\n",
       "      <td>Prenzlauer Berg Nordwest</td>\n",
       "      <td>52.548513</td>\n",
       "      <td>13.404553</td>\n",
       "      <td>Private room</td>\n",
       "      <td>17</td>\n",
       "      <td>2</td>\n",
       "      <td>6</td>\n",
       "      <td>2018-10-01</td>\n",
       "      <td>1.42</td>\n",
       "      <td>1</td>\n",
       "      <td>0</td>\n",
       "    </tr>\n",
       "    <tr>\n",
       "      <th>2</th>\n",
       "      <td>3176</td>\n",
       "      <td>Fabulous Flat in great Location</td>\n",
       "      <td>3718</td>\n",
       "      <td>Britta</td>\n",
       "      <td>Pankow</td>\n",
       "      <td>Prenzlauer Berg Südwest</td>\n",
       "      <td>52.534996</td>\n",
       "      <td>13.417579</td>\n",
       "      <td>Entire home/apt</td>\n",
       "      <td>90</td>\n",
       "      <td>62</td>\n",
       "      <td>143</td>\n",
       "      <td>2017-03-20</td>\n",
       "      <td>1.25</td>\n",
       "      <td>1</td>\n",
       "      <td>220</td>\n",
       "    </tr>\n",
       "  </tbody>\n",
       "</table>\n",
       "</div>"
      ],
      "text/plain": [
       "     id                                              name  host_id host_name  \\\n",
       "0  2015  Berlin-Mitte Value! Quiet courtyard/very central     2217       Ian   \n",
       "1  2695                Prenzlauer Berg close to Mauerpark     2986   Michael   \n",
       "2  3176                   Fabulous Flat in great Location     3718    Britta   \n",
       "\n",
       "  neighbourhood_group             neighbourhood   latitude  longitude  \\\n",
       "0               Mitte           Brunnenstr. Süd  52.534537  13.402557   \n",
       "1              Pankow  Prenzlauer Berg Nordwest  52.548513  13.404553   \n",
       "2              Pankow   Prenzlauer Berg Südwest  52.534996  13.417579   \n",
       "\n",
       "         room_type  price  minimum_nights  number_of_reviews last_review  \\\n",
       "0  Entire home/apt     60               4                118  2018-10-28   \n",
       "1     Private room     17               2                  6  2018-10-01   \n",
       "2  Entire home/apt     90              62                143  2017-03-20   \n",
       "\n",
       "   reviews_per_month  calculated_host_listings_count  availability_365  \n",
       "0               3.76                               4               141  \n",
       "1               1.42                               1                 0  \n",
       "2               1.25                               1               220  "
      ]
     },
     "execution_count": 7,
     "metadata": {},
     "output_type": "execute_result"
    }
   ],
   "source": [
    "df_list.head(3)"
   ]
  },
  {
   "cell_type": "code",
   "execution_count": 8,
   "metadata": {},
   "outputs": [
    {
     "data": {
      "text/plain": [
       "Index(['id', 'name', 'host_id', 'host_name', 'neighbourhood_group',\n",
       "       'neighbourhood', 'latitude', 'longitude', 'room_type', 'price',\n",
       "       'minimum_nights', 'number_of_reviews', 'last_review',\n",
       "       'reviews_per_month', 'calculated_host_listings_count',\n",
       "       'availability_365'],\n",
       "      dtype='object')"
      ]
     },
     "execution_count": 8,
     "metadata": {},
     "output_type": "execute_result"
    }
   ],
   "source": [
    "df_list.columns"
   ]
  },
  {
   "cell_type": "code",
   "execution_count": 9,
   "metadata": {},
   "outputs": [
    {
     "data": {
      "text/plain": [
       "\"In the summertime we are spending most of our weekends in our little house in our garden and want to use the opportunity to rent a room in our cosy 2 bedroom apartment. But we might also stay in the other room. We will be very happy to give you tips on things to do and see in Berlin and make sure your stay runs smoothly. The room is about 25 square meters and is located on the 2nd floor. The bed measures 180 cm x 200 cm and is fitted with a kapok futon, which is a hard-ish mattress but which we find very pleasant to sleep on.  It's a typical Berlin-style apartment located in a friendly and calm neighborhood, plus your room is facing away from the street and into the interior area (so generally very quiet).  All the cafes, bars, shops and other action of the Prenzlauerberg district is easily accessible with a pleasant 10-15 minute stroll across Mauerpark. The main S-Bahn and U-Bahn public transport connections are also just a 10-15 minute walk away. There are all sorts of options for ea\""
      ]
     },
     "execution_count": 9,
     "metadata": {},
     "output_type": "execute_result"
    }
   ],
   "source": [
    "df_list_sum['space'][1]"
   ]
  },
  {
   "cell_type": "code",
   "execution_count": 10,
   "metadata": {},
   "outputs": [
    {
     "data": {
      "text/plain": [
       "Index(['id', 'listing_url', 'scrape_id', 'last_scraped', 'name', 'summary',\n",
       "       'space', 'description', 'experiences_offered', 'neighborhood_overview',\n",
       "       'notes', 'transit', 'access', 'interaction', 'house_rules',\n",
       "       'thumbnail_url', 'medium_url', 'picture_url', 'xl_picture_url',\n",
       "       'host_id', 'host_url', 'host_name', 'host_since', 'host_location',\n",
       "       'host_about', 'host_response_time', 'host_response_rate',\n",
       "       'host_acceptance_rate', 'host_is_superhost', 'host_thumbnail_url',\n",
       "       'host_picture_url', 'host_neighbourhood', 'host_listings_count',\n",
       "       'host_total_listings_count', 'host_verifications',\n",
       "       'host_has_profile_pic', 'host_identity_verified', 'street',\n",
       "       'neighbourhood', 'neighbourhood_cleansed',\n",
       "       'neighbourhood_group_cleansed', 'city', 'state', 'zipcode', 'market',\n",
       "       'smart_location', 'country_code', 'country', 'latitude', 'longitude',\n",
       "       'is_location_exact', 'property_type', 'room_type', 'accommodates',\n",
       "       'bathrooms', 'bedrooms', 'beds', 'bed_type', 'amenities', 'square_feet',\n",
       "       'price', 'weekly_price', 'monthly_price', 'security_deposit',\n",
       "       'cleaning_fee', 'guests_included', 'extra_people', 'minimum_nights',\n",
       "       'maximum_nights', 'calendar_updated', 'has_availability',\n",
       "       'availability_30', 'availability_60', 'availability_90',\n",
       "       'availability_365', 'calendar_last_scraped', 'number_of_reviews',\n",
       "       'first_review', 'last_review', 'review_scores_rating',\n",
       "       'review_scores_accuracy', 'review_scores_cleanliness',\n",
       "       'review_scores_checkin', 'review_scores_communication',\n",
       "       'review_scores_location', 'review_scores_value', 'requires_license',\n",
       "       'license', 'jurisdiction_names', 'instant_bookable',\n",
       "       'is_business_travel_ready', 'cancellation_policy',\n",
       "       'require_guest_profile_picture', 'require_guest_phone_verification',\n",
       "       'calculated_host_listings_count', 'reviews_per_month'],\n",
       "      dtype='object')"
      ]
     },
     "execution_count": 10,
     "metadata": {},
     "output_type": "execute_result"
    }
   ],
   "source": [
    "df_list_sum.columns"
   ]
  },
  {
   "cell_type": "code",
   "execution_count": 11,
   "metadata": {},
   "outputs": [
    {
     "data": {
      "text/html": [
       "<div>\n",
       "<style scoped>\n",
       "    .dataframe tbody tr th:only-of-type {\n",
       "        vertical-align: middle;\n",
       "    }\n",
       "\n",
       "    .dataframe tbody tr th {\n",
       "        vertical-align: top;\n",
       "    }\n",
       "\n",
       "    .dataframe thead th {\n",
       "        text-align: right;\n",
       "    }\n",
       "</style>\n",
       "<table border=\"1\" class=\"dataframe\">\n",
       "  <thead>\n",
       "    <tr style=\"text-align: right;\">\n",
       "      <th></th>\n",
       "      <th>listing_id</th>\n",
       "      <th>date</th>\n",
       "    </tr>\n",
       "  </thead>\n",
       "  <tbody>\n",
       "    <tr>\n",
       "      <th>0</th>\n",
       "      <td>2015</td>\n",
       "      <td>2016-04-11</td>\n",
       "    </tr>\n",
       "    <tr>\n",
       "      <th>1</th>\n",
       "      <td>2015</td>\n",
       "      <td>2016-04-15</td>\n",
       "    </tr>\n",
       "    <tr>\n",
       "      <th>2</th>\n",
       "      <td>2015</td>\n",
       "      <td>2016-04-26</td>\n",
       "    </tr>\n",
       "  </tbody>\n",
       "</table>\n",
       "</div>"
      ],
      "text/plain": [
       "   listing_id        date\n",
       "0        2015  2016-04-11\n",
       "1        2015  2016-04-15\n",
       "2        2015  2016-04-26"
      ]
     },
     "execution_count": 11,
     "metadata": {},
     "output_type": "execute_result"
    }
   ],
   "source": [
    "df_rev.head(3)"
   ]
  },
  {
   "cell_type": "code",
   "execution_count": 12,
   "metadata": {},
   "outputs": [
    {
     "data": {
      "text/html": [
       "<div>\n",
       "<style scoped>\n",
       "    .dataframe tbody tr th:only-of-type {\n",
       "        vertical-align: middle;\n",
       "    }\n",
       "\n",
       "    .dataframe tbody tr th {\n",
       "        vertical-align: top;\n",
       "    }\n",
       "\n",
       "    .dataframe thead th {\n",
       "        text-align: right;\n",
       "    }\n",
       "</style>\n",
       "<table border=\"1\" class=\"dataframe\">\n",
       "  <thead>\n",
       "    <tr style=\"text-align: right;\">\n",
       "      <th></th>\n",
       "      <th>listing_id</th>\n",
       "      <th>id</th>\n",
       "      <th>date</th>\n",
       "      <th>reviewer_id</th>\n",
       "      <th>reviewer_name</th>\n",
       "      <th>comments</th>\n",
       "    </tr>\n",
       "  </thead>\n",
       "  <tbody>\n",
       "    <tr>\n",
       "      <th>0</th>\n",
       "      <td>2015</td>\n",
       "      <td>69544350</td>\n",
       "      <td>2016-04-11</td>\n",
       "      <td>7178145</td>\n",
       "      <td>Rahel</td>\n",
       "      <td>Mein Freund und ich hatten gute gemütliche vie...</td>\n",
       "    </tr>\n",
       "    <tr>\n",
       "      <th>1</th>\n",
       "      <td>2015</td>\n",
       "      <td>69990732</td>\n",
       "      <td>2016-04-15</td>\n",
       "      <td>41944715</td>\n",
       "      <td>Hannah</td>\n",
       "      <td>Jan was very friendly and welcoming host! The ...</td>\n",
       "    </tr>\n",
       "    <tr>\n",
       "      <th>2</th>\n",
       "      <td>2015</td>\n",
       "      <td>71605267</td>\n",
       "      <td>2016-04-26</td>\n",
       "      <td>30048708</td>\n",
       "      <td>Victor</td>\n",
       "      <td>Un appartement tres bien situé dans un quartie...</td>\n",
       "    </tr>\n",
       "    <tr>\n",
       "      <th>3</th>\n",
       "      <td>2015</td>\n",
       "      <td>73819566</td>\n",
       "      <td>2016-05-10</td>\n",
       "      <td>63697857</td>\n",
       "      <td>Judy</td>\n",
       "      <td>It is really nice area, food, park, transport ...</td>\n",
       "    </tr>\n",
       "    <tr>\n",
       "      <th>4</th>\n",
       "      <td>2015</td>\n",
       "      <td>74293504</td>\n",
       "      <td>2016-05-14</td>\n",
       "      <td>10414887</td>\n",
       "      <td>Romina</td>\n",
       "      <td>Buena ubicación, el departamento no está orden...</td>\n",
       "    </tr>\n",
       "    <tr>\n",
       "      <th>5</th>\n",
       "      <td>2015</td>\n",
       "      <td>74690922</td>\n",
       "      <td>2016-05-16</td>\n",
       "      <td>39859815</td>\n",
       "      <td>Eil</td>\n",
       "      <td>Jan ist super flexibel und gut zu erreichen, w...</td>\n",
       "    </tr>\n",
       "    <tr>\n",
       "      <th>6</th>\n",
       "      <td>2015</td>\n",
       "      <td>76603178</td>\n",
       "      <td>2016-05-28</td>\n",
       "      <td>29323516</td>\n",
       "      <td>Laurent</td>\n",
       "      <td>We had a very nice stay in Berlin, thanks to J...</td>\n",
       "    </tr>\n",
       "    <tr>\n",
       "      <th>7</th>\n",
       "      <td>2015</td>\n",
       "      <td>77296201</td>\n",
       "      <td>2016-05-31</td>\n",
       "      <td>9025122</td>\n",
       "      <td>Rasmus</td>\n",
       "      <td>Great location close to Mauerpark, Kastanienal...</td>\n",
       "    </tr>\n",
       "    <tr>\n",
       "      <th>8</th>\n",
       "      <td>2015</td>\n",
       "      <td>77834906</td>\n",
       "      <td>2016-06-03</td>\n",
       "      <td>39244464</td>\n",
       "      <td>Sabine</td>\n",
       "      <td>Perfekte Lage, perfekte Ausstattung, perfekter...</td>\n",
       "    </tr>\n",
       "    <tr>\n",
       "      <th>9</th>\n",
       "      <td>2015</td>\n",
       "      <td>82322683</td>\n",
       "      <td>2016-06-27</td>\n",
       "      <td>73902920</td>\n",
       "      <td>Mag</td>\n",
       "      <td>Apartment very well located, close to everythi...</td>\n",
       "    </tr>\n",
       "  </tbody>\n",
       "</table>\n",
       "</div>"
      ],
      "text/plain": [
       "   listing_id        id        date  reviewer_id reviewer_name  \\\n",
       "0        2015  69544350  2016-04-11      7178145         Rahel   \n",
       "1        2015  69990732  2016-04-15     41944715        Hannah   \n",
       "2        2015  71605267  2016-04-26     30048708        Victor   \n",
       "3        2015  73819566  2016-05-10     63697857          Judy   \n",
       "4        2015  74293504  2016-05-14     10414887        Romina   \n",
       "5        2015  74690922  2016-05-16     39859815           Eil   \n",
       "6        2015  76603178  2016-05-28     29323516       Laurent   \n",
       "7        2015  77296201  2016-05-31      9025122        Rasmus   \n",
       "8        2015  77834906  2016-06-03     39244464        Sabine   \n",
       "9        2015  82322683  2016-06-27     73902920           Mag   \n",
       "\n",
       "                                            comments  \n",
       "0  Mein Freund und ich hatten gute gemütliche vie...  \n",
       "1  Jan was very friendly and welcoming host! The ...  \n",
       "2  Un appartement tres bien situé dans un quartie...  \n",
       "3  It is really nice area, food, park, transport ...  \n",
       "4  Buena ubicación, el departamento no está orden...  \n",
       "5  Jan ist super flexibel und gut zu erreichen, w...  \n",
       "6  We had a very nice stay in Berlin, thanks to J...  \n",
       "7  Great location close to Mauerpark, Kastanienal...  \n",
       "8  Perfekte Lage, perfekte Ausstattung, perfekter...  \n",
       "9  Apartment very well located, close to everythi...  "
      ]
     },
     "execution_count": 12,
     "metadata": {},
     "output_type": "execute_result"
    }
   ],
   "source": [
    "df_rev_sum.head(10)"
   ]
  },
  {
   "cell_type": "markdown",
   "metadata": {},
   "source": [
    "Only looking at listings.csv, to get an idea of the functions"
   ]
  },
  {
   "cell_type": "code",
   "execution_count": 13,
   "metadata": {},
   "outputs": [
    {
     "data": {
      "text/html": [
       "<div>\n",
       "<style scoped>\n",
       "    .dataframe tbody tr th:only-of-type {\n",
       "        vertical-align: middle;\n",
       "    }\n",
       "\n",
       "    .dataframe tbody tr th {\n",
       "        vertical-align: top;\n",
       "    }\n",
       "\n",
       "    .dataframe thead th {\n",
       "        text-align: right;\n",
       "    }\n",
       "</style>\n",
       "<table border=\"1\" class=\"dataframe\">\n",
       "  <thead>\n",
       "    <tr style=\"text-align: right;\">\n",
       "      <th></th>\n",
       "      <th>col</th>\n",
       "      <th>nunique</th>\n",
       "      <th>ratio</th>\n",
       "      <th>coltype</th>\n",
       "    </tr>\n",
       "  </thead>\n",
       "  <tbody>\n",
       "    <tr>\n",
       "      <th>0</th>\n",
       "      <td>id</td>\n",
       "      <td>22552</td>\n",
       "      <td>1.000000</td>\n",
       "      <td>num</td>\n",
       "    </tr>\n",
       "    <tr>\n",
       "      <th>1</th>\n",
       "      <td>name</td>\n",
       "      <td>21873</td>\n",
       "      <td>0.969892</td>\n",
       "      <td>num</td>\n",
       "    </tr>\n",
       "    <tr>\n",
       "      <th>2</th>\n",
       "      <td>host_id</td>\n",
       "      <td>19180</td>\n",
       "      <td>0.850479</td>\n",
       "      <td>num</td>\n",
       "    </tr>\n",
       "    <tr>\n",
       "      <th>3</th>\n",
       "      <td>host_name</td>\n",
       "      <td>5997</td>\n",
       "      <td>0.265919</td>\n",
       "      <td>num</td>\n",
       "    </tr>\n",
       "    <tr>\n",
       "      <th>4</th>\n",
       "      <td>neighbourhood_group</td>\n",
       "      <td>12</td>\n",
       "      <td>0.000532</td>\n",
       "      <td>cat</td>\n",
       "    </tr>\n",
       "    <tr>\n",
       "      <th>5</th>\n",
       "      <td>neighbourhood</td>\n",
       "      <td>136</td>\n",
       "      <td>0.006031</td>\n",
       "      <td>num</td>\n",
       "    </tr>\n",
       "    <tr>\n",
       "      <th>6</th>\n",
       "      <td>latitude</td>\n",
       "      <td>22552</td>\n",
       "      <td>1.000000</td>\n",
       "      <td>num</td>\n",
       "    </tr>\n",
       "    <tr>\n",
       "      <th>7</th>\n",
       "      <td>longitude</td>\n",
       "      <td>22552</td>\n",
       "      <td>1.000000</td>\n",
       "      <td>num</td>\n",
       "    </tr>\n",
       "    <tr>\n",
       "      <th>8</th>\n",
       "      <td>room_type</td>\n",
       "      <td>3</td>\n",
       "      <td>0.000133</td>\n",
       "      <td>cat</td>\n",
       "    </tr>\n",
       "    <tr>\n",
       "      <th>9</th>\n",
       "      <td>price</td>\n",
       "      <td>295</td>\n",
       "      <td>0.013081</td>\n",
       "      <td>num</td>\n",
       "    </tr>\n",
       "    <tr>\n",
       "      <th>10</th>\n",
       "      <td>minimum_nights</td>\n",
       "      <td>102</td>\n",
       "      <td>0.004523</td>\n",
       "      <td>num</td>\n",
       "    </tr>\n",
       "    <tr>\n",
       "      <th>11</th>\n",
       "      <td>number_of_reviews</td>\n",
       "      <td>306</td>\n",
       "      <td>0.013569</td>\n",
       "      <td>num</td>\n",
       "    </tr>\n",
       "    <tr>\n",
       "      <th>12</th>\n",
       "      <td>last_review</td>\n",
       "      <td>1312</td>\n",
       "      <td>0.058177</td>\n",
       "      <td>num</td>\n",
       "    </tr>\n",
       "    <tr>\n",
       "      <th>13</th>\n",
       "      <td>reviews_per_month</td>\n",
       "      <td>768</td>\n",
       "      <td>0.034055</td>\n",
       "      <td>num</td>\n",
       "    </tr>\n",
       "    <tr>\n",
       "      <th>14</th>\n",
       "      <td>calculated_host_listings_count</td>\n",
       "      <td>23</td>\n",
       "      <td>0.001020</td>\n",
       "      <td>cat</td>\n",
       "    </tr>\n",
       "    <tr>\n",
       "      <th>15</th>\n",
       "      <td>availability_365</td>\n",
       "      <td>366</td>\n",
       "      <td>0.016229</td>\n",
       "      <td>num</td>\n",
       "    </tr>\n",
       "  </tbody>\n",
       "</table>\n",
       "</div>"
      ],
      "text/plain": [
       "                               col  nunique     ratio coltype\n",
       "0                               id    22552  1.000000     num\n",
       "1                             name    21873  0.969892     num\n",
       "2                          host_id    19180  0.850479     num\n",
       "3                        host_name     5997  0.265919     num\n",
       "4              neighbourhood_group       12  0.000532     cat\n",
       "5                    neighbourhood      136  0.006031     num\n",
       "6                         latitude    22552  1.000000     num\n",
       "7                        longitude    22552  1.000000     num\n",
       "8                        room_type        3  0.000133     cat\n",
       "9                            price      295  0.013081     num\n",
       "10                  minimum_nights      102  0.004523     num\n",
       "11               number_of_reviews      306  0.013569     num\n",
       "12                     last_review     1312  0.058177     num\n",
       "13               reviews_per_month      768  0.034055     num\n",
       "14  calculated_host_listings_count       23  0.001020     cat\n",
       "15                availability_365      366  0.016229     num"
      ]
     },
     "execution_count": 13,
     "metadata": {},
     "output_type": "execute_result"
    }
   ],
   "source": [
    "df_unique_values = pd_stat_col(df_list)\n",
    "df_unique_values"
   ]
  },
  {
   "cell_type": "code",
   "execution_count": 14,
   "metadata": {},
   "outputs": [
    {
     "name": "stdout",
     "output_type": "stream",
     "text": [
      "room_type 3 (22552, 16)\n",
      "neighbourhood_group 12 (22552, 18)\n",
      "calculated_host_listings_count 23 (22552, 29)\n"
     ]
    }
   ],
   "source": [
    "# One hot encoding of all the necessary columns\n",
    "\n",
    "df_list = pd_col_to_onehot(df_list, ['room_type'])\n",
    "df_list = pd_col_to_onehot(df_list, ['neighbourhood_group'])\n",
    "df_list = pd_col_to_onehot(df_list, ['calculated_host_listings_count'])"
   ]
  },
  {
   "cell_type": "code",
   "execution_count": 15,
   "metadata": {},
   "outputs": [
    {
     "data": {
      "image/png": "[encoded data removed]",
      "text/plain": [
       "<Figure size 432x288 with 1 Axes>"
      ]
     },
     "metadata": {
      "needs_background": "light"
     },
     "output_type": "display_data"
    }
   ],
   "source": [
    "plot_pair(df_list, ['price'], ['minimum_nights'])"
   ]
  },
  {
   "cell_type": "code",
   "execution_count": 16,
   "metadata": {},
   "outputs": [
    {
     "data": {
      "image/png": "[encoded data removed]",
      "text/plain": [
       "<Figure size 576x432 with 1 Axes>"
      ]
     },
     "metadata": {
      "needs_background": "light"
     },
     "output_type": "display_data"
    }
   ],
   "source": [
    "plot_Y(df_list['price'])"
   ]
  },
  {
   "cell_type": "code",
   "execution_count": 17,
   "metadata": {},
   "outputs": [
    {
     "name": "stdout",
     "output_type": "stream",
     "text": [
      "('NaN count:', 0, 'Unique count:', 295)\n",
      "('Max:', 9000, 'Min:', 0)\n",
      "('Median', 45.0, 'Mean:', 67.14366796736431, 'Std:', 220.2613265910614)\n"
     ]
    },
    {
     "data": {
      "image/png": "[encoded data removed]",
      "text/plain": [
       "<Figure size 576x360 with 1 Axes>"
      ]
     },
     "metadata": {
      "needs_background": "light"
     },
     "output_type": "display_data"
    },
    {
     "name": "stderr",
     "output_type": "stream",
     "text": [
      "/home/maxime/anaconda3/envs/tf-gpu/lib/python3.7/site-packages/matplotlib/axes/_axes.py:6521: MatplotlibDeprecationWarning:\n",
      "\n",
      "\n",
      "The 'normed' kwarg was deprecated in Matplotlib 2.1 and will be removed in 3.1. Use 'density' instead.\n",
      "\n"
     ]
    },
    {
     "data": {
      "image/png": "[encoded data removed]",
      "text/plain": [
       "<Figure size 432x288 with 1 Axes>"
      ]
     },
     "metadata": {
      "needs_background": "light"
     },
     "output_type": "display_data"
    },
    {
     "data": {
      "image/png": "[encoded data removed]",
      "text/plain": [
       "<Figure size 576x360 with 1 Axes>"
      ]
     },
     "metadata": {
      "needs_background": "light"
     },
     "output_type": "display_data"
    }
   ],
   "source": [
    "plot_col_distribution(df_list, ['price'])"
   ]
  },
  {
   "cell_type": "markdown",
   "metadata": {},
   "source": [
    "Now work on listings_summary.csv"
   ]
  },
  {
   "cell_type": "code",
   "execution_count": 18,
   "metadata": {},
   "outputs": [],
   "source": [
    "df_list_sum_tronc = df_list_sum"
   ]
  },
  {
   "cell_type": "code",
   "execution_count": 19,
   "metadata": {},
   "outputs": [
    {
     "data": {
      "text/plain": [
       "(453, 96)"
      ]
     },
     "execution_count": 19,
     "metadata": {},
     "output_type": "execute_result"
    }
   ],
   "source": [
    "df_list_sum_tronc.shape"
   ]
  },
  {
   "cell_type": "code",
   "execution_count": 20,
   "metadata": {},
   "outputs": [
    {
     "data": {
      "text/html": [
       "<div>\n",
       "<style scoped>\n",
       "    .dataframe tbody tr th:only-of-type {\n",
       "        vertical-align: middle;\n",
       "    }\n",
       "\n",
       "    .dataframe tbody tr th {\n",
       "        vertical-align: top;\n",
       "    }\n",
       "\n",
       "    .dataframe thead th {\n",
       "        text-align: right;\n",
       "    }\n",
       "</style>\n",
       "<table border=\"1\" class=\"dataframe\">\n",
       "  <thead>\n",
       "    <tr style=\"text-align: right;\">\n",
       "      <th></th>\n",
       "      <th>price</th>\n",
       "      <th>cleaning_fee</th>\n",
       "      <th>extra_people</th>\n",
       "      <th>security_deposit</th>\n",
       "    </tr>\n",
       "  </thead>\n",
       "  <tbody>\n",
       "    <tr>\n",
       "      <th>0</th>\n",
       "      <td>$60.00</td>\n",
       "      <td>$30.00</td>\n",
       "      <td>$28.00</td>\n",
       "      <td>$200.00</td>\n",
       "    </tr>\n",
       "    <tr>\n",
       "      <th>1</th>\n",
       "      <td>$17.00</td>\n",
       "      <td>$0.00</td>\n",
       "      <td>$0.00</td>\n",
       "      <td>$0.00</td>\n",
       "    </tr>\n",
       "    <tr>\n",
       "      <th>2</th>\n",
       "      <td>$90.00</td>\n",
       "      <td>$50.00</td>\n",
       "      <td>$20.00</td>\n",
       "      <td>$200.00</td>\n",
       "    </tr>\n",
       "  </tbody>\n",
       "</table>\n",
       "</div>"
      ],
      "text/plain": [
       "    price cleaning_fee extra_people security_deposit\n",
       "0  $60.00       $30.00       $28.00          $200.00\n",
       "1  $17.00        $0.00        $0.00            $0.00\n",
       "2  $90.00       $50.00       $20.00          $200.00"
      ]
     },
     "execution_count": 20,
     "metadata": {},
     "output_type": "execute_result"
    }
   ],
   "source": [
    "df_list_sum_tronc[['price', 'cleaning_fee', 'extra_people', 'security_deposit']].head(3)"
   ]
  },
  {
   "cell_type": "code",
   "execution_count": 21,
   "metadata": {},
   "outputs": [],
   "source": [
    "column_list = ['price', 'cleaning_fee', 'extra_people', 'security_deposit']\n",
    "df_list_sum_tronc = pd_coltext_remove_text(df_list_sum_tronc, column_list, '$')"
   ]
  },
  {
   "cell_type": "code",
   "execution_count": 22,
   "metadata": {},
   "outputs": [
    {
     "name": "stdout",
     "output_type": "stream",
     "text": [
      "there are 0 empty values in price\n",
      "there were 48 empty values in cleaning_fee\n",
      "there are 48 empty values in cleaning_fee\n",
      "there are 0 empty values in extra_people\n",
      "there were 114 empty values in security_deposit\n",
      "there are 114 empty values in security_deposit\n"
     ]
    }
   ],
   "source": [
    "df_list_sum_tronc = pd_col_fill_na(df_list_sum_tronc, column_list, 0.0)"
   ]
  },
  {
   "cell_type": "markdown",
   "metadata": {},
   "source": [
    "As was seen in the plotting of the price, there are huge outliers in the price (some apartments are very expensive, but there are very few of those)"
   ]
  },
  {
   "cell_type": "code",
   "execution_count": 23,
   "metadata": {},
   "outputs": [],
   "source": [
    "df_list_sum_tronc = pd_row_drop_above_thresh(df_list_sum_tronc, 'price', thresh=500)"
   ]
  },
  {
   "cell_type": "code",
   "execution_count": 24,
   "metadata": {},
   "outputs": [
    {
     "name": "stdout",
     "output_type": "stream",
     "text": [
      "('NaN count:', 0, 'Unique count:', 104)\n",
      "('Max:', 506.0, 'Min:', 9.0)\n",
      "('Median', 60.0, 'Mean:', 68.65342163355409, 'Std:', 45.23342908064752)\n"
     ]
    },
    {
     "data": {
      "image/png": "[encoded data removed]",
      "text/plain": [
       "<Figure size 576x360 with 1 Axes>"
      ]
     },
     "metadata": {
      "needs_background": "light"
     },
     "output_type": "display_data"
    },
    {
     "name": "stderr",
     "output_type": "stream",
     "text": [
      "/home/maxime/anaconda3/envs/tf-gpu/lib/python3.7/site-packages/matplotlib/axes/_axes.py:6521: MatplotlibDeprecationWarning:\n",
      "\n",
      "\n",
      "The 'normed' kwarg was deprecated in Matplotlib 2.1 and will be removed in 3.1. Use 'density' instead.\n",
      "\n"
     ]
    },
    {
     "data": {
      "image/png": "[encoded data removed]",
      "text/plain": [
       "<Figure size 432x288 with 1 Axes>"
      ]
     },
     "metadata": {
      "needs_background": "light"
     },
     "output_type": "display_data"
    },
    {
     "data": {
      "image/png": "[encoded data removed]",
      "text/plain": [
       "<Figure size 576x360 with 1 Axes>"
      ]
     },
     "metadata": {
      "needs_background": "light"
     },
     "output_type": "display_data"
    }
   ],
   "source": [
    "plot_col_distribution(df_list_sum_tronc, ['price'])"
   ]
  },
  {
   "cell_type": "code",
   "execution_count": 25,
   "metadata": {},
   "outputs": [
    {
     "name": "stdout",
     "output_type": "stream",
     "text": [
      "Out of 453 columns, the columns with most missing values are :\n",
      "host_acceptance_rate     453\n",
      "xl_picture_url           453\n",
      "jurisdiction_names       453\n",
      "medium_url               453\n",
      "thumbnail_url            453\n",
      "license                  350\n",
      "square_feet              286\n",
      "notes                    243\n",
      "interaction              237\n",
      "neighborhood_overview    211\n",
      "dtype: int64\n"
     ]
    }
   ],
   "source": [
    "plot_cols_with_NaNs(df_list_sum_tronc, 10)"
   ]
  },
  {
   "cell_type": "markdown",
   "metadata": {},
   "source": [
    "Following this, we can remove the columns with too many missing values"
   ]
  },
  {
   "cell_type": "code",
   "execution_count": 26,
   "metadata": {},
   "outputs": [],
   "source": [
    "#df_list_sum_tronc = pd_col_remove(df_list_sum_tronc, ['square_feet'])"
   ]
  },
  {
   "cell_type": "code",
   "execution_count": 27,
   "metadata": {},
   "outputs": [
    {
     "data": {
      "image/png": "[encoded data removed]",
      "text/plain": [
       "<Figure size 432x288 with 2 Axes>"
      ]
     },
     "metadata": {
      "needs_background": "light"
     },
     "output_type": "display_data"
    }
   ],
   "source": [
    "plot_col_correl_matrix(df_list_sum_tronc, df_list_sum_tronc.columns, annot=False)"
   ]
  },
  {
   "cell_type": "code",
   "execution_count": 28,
   "metadata": {},
   "outputs": [
    {
     "name": "stdout",
     "output_type": "stream",
     "text": [
      "Most correlated features to ['price'] are: \n",
      "                              price\n",
      "price                      1.000000\n",
      "guests_included            0.607970\n",
      "square_feet                0.563523\n",
      "accommodates               0.543297\n",
      "cleaning_fee               0.480775\n",
      "bedrooms                   0.475310\n",
      "beds                       0.468457\n",
      "bathrooms                  0.333832\n",
      "extra_people               0.302841\n",
      "review_scores_cleanliness  0.157984\n"
     ]
    }
   ],
   "source": [
    "plot_col_correl_target(df_list_sum_tronc, df_list_sum_tronc.columns, ['price'], nb_to_show=10, ascending=False)"
   ]
  },
  {
   "cell_type": "code",
   "execution_count": 29,
   "metadata": {},
   "outputs": [
    {
     "name": "stdout",
     "output_type": "stream",
     "text": [
      "Least correlated features to ['price'] are: \n",
      "                                   price\n",
      "id                             -0.160341\n",
      "host_id                        -0.136987\n",
      "calculated_host_listings_count -0.129703\n",
      "host_listings_count            -0.117068\n",
      "host_total_listings_count      -0.117068\n"
     ]
    }
   ],
   "source": [
    "plot_col_correl_target(df_list_sum_tronc, df_list_sum_tronc.columns, ['price'], nb_to_show=5, ascending=True)"
   ]
  },
  {
   "cell_type": "markdown",
   "metadata": {},
   "source": [
    "__Feature Engineering__"
   ]
  },
  {
   "cell_type": "code",
   "execution_count": 30,
   "metadata": {},
   "outputs": [],
   "source": [
    "# Calculating the distance from the appartement to the center of Berlin\n",
    "\n",
    "berlin_center = (52.5027778, 13.404166666666667)\n",
    "df_list_sum_tronc = pd_col_add_distance_to_point(df_list_sum_tronc, berlin_center)"
   ]
  },
  {
   "cell_type": "code",
   "execution_count": 31,
   "metadata": {},
   "outputs": [
    {
     "data": {
      "text/html": [
       "<div>\n",
       "<style scoped>\n",
       "    .dataframe tbody tr th:only-of-type {\n",
       "        vertical-align: middle;\n",
       "    }\n",
       "\n",
       "    .dataframe tbody tr th {\n",
       "        vertical-align: top;\n",
       "    }\n",
       "\n",
       "    .dataframe thead th {\n",
       "        text-align: right;\n",
       "    }\n",
       "</style>\n",
       "<table border=\"1\" class=\"dataframe\">\n",
       "  <thead>\n",
       "    <tr style=\"text-align: right;\">\n",
       "      <th></th>\n",
       "      <th>text</th>\n",
       "      <th>freq</th>\n",
       "    </tr>\n",
       "  </thead>\n",
       "  <tbody>\n",
       "    <tr>\n",
       "      <th>0</th>\n",
       "      <td>Heating</td>\n",
       "      <td>448</td>\n",
       "    </tr>\n",
       "    <tr>\n",
       "      <th>1</th>\n",
       "      <td>Wifi</td>\n",
       "      <td>434</td>\n",
       "    </tr>\n",
       "    <tr>\n",
       "      <th>2</th>\n",
       "      <td>Kitchen</td>\n",
       "      <td>417</td>\n",
       "    </tr>\n",
       "    <tr>\n",
       "      <th>3</th>\n",
       "      <td>Essentials</td>\n",
       "      <td>362</td>\n",
       "    </tr>\n",
       "    <tr>\n",
       "      <th>4</th>\n",
       "      <td>Washer</td>\n",
       "      <td>358</td>\n",
       "    </tr>\n",
       "    <tr>\n",
       "      <th>5</th>\n",
       "      <td>Internet</td>\n",
       "      <td>349</td>\n",
       "    </tr>\n",
       "    <tr>\n",
       "      <th>6</th>\n",
       "      <td>Hair dryer</td>\n",
       "      <td>340</td>\n",
       "    </tr>\n",
       "    <tr>\n",
       "      <th>7</th>\n",
       "      <td>Hangers</td>\n",
       "      <td>310</td>\n",
       "    </tr>\n",
       "    <tr>\n",
       "      <th>8</th>\n",
       "      <td>TV</td>\n",
       "      <td>305</td>\n",
       "    </tr>\n",
       "    <tr>\n",
       "      <th>9</th>\n",
       "      <td>Hot water</td>\n",
       "      <td>291</td>\n",
       "    </tr>\n",
       "    <tr>\n",
       "      <th>10</th>\n",
       "      <td>Buzzer/wireless intercom</td>\n",
       "      <td>283</td>\n",
       "    </tr>\n",
       "    <tr>\n",
       "      <th>11</th>\n",
       "      <td>Laptop friendly workspace</td>\n",
       "      <td>279</td>\n",
       "    </tr>\n",
       "    <tr>\n",
       "      <th>12</th>\n",
       "      <td>Family/kid friendly</td>\n",
       "      <td>274</td>\n",
       "    </tr>\n",
       "    <tr>\n",
       "      <th>13</th>\n",
       "      <td>Iron</td>\n",
       "      <td>272</td>\n",
       "    </tr>\n",
       "    <tr>\n",
       "      <th>14</th>\n",
       "      <td>Shampoo</td>\n",
       "      <td>198</td>\n",
       "    </tr>\n",
       "    <tr>\n",
       "      <th>15</th>\n",
       "      <td>Host greets you</td>\n",
       "      <td>195</td>\n",
       "    </tr>\n",
       "    <tr>\n",
       "      <th>16</th>\n",
       "      <td>Cable TV</td>\n",
       "      <td>170</td>\n",
       "    </tr>\n",
       "    <tr>\n",
       "      <th>17</th>\n",
       "      <td>Smoke detector</td>\n",
       "      <td>169</td>\n",
       "    </tr>\n",
       "    <tr>\n",
       "      <th>18</th>\n",
       "      <td>Bed linens</td>\n",
       "      <td>152</td>\n",
       "    </tr>\n",
       "    <tr>\n",
       "      <th>19</th>\n",
       "      <td>Free street parking</td>\n",
       "      <td>147</td>\n",
       "    </tr>\n",
       "    <tr>\n",
       "      <th>20</th>\n",
       "      <td>Refrigerator</td>\n",
       "      <td>142</td>\n",
       "    </tr>\n",
       "    <tr>\n",
       "      <th>21</th>\n",
       "      <td>Dishes and silverware</td>\n",
       "      <td>139</td>\n",
       "    </tr>\n",
       "    <tr>\n",
       "      <th>22</th>\n",
       "      <td>Long term stays allowed</td>\n",
       "      <td>139</td>\n",
       "    </tr>\n",
       "    <tr>\n",
       "      <th>23</th>\n",
       "      <td>Cooking basics</td>\n",
       "      <td>132</td>\n",
       "    </tr>\n",
       "    <tr>\n",
       "      <th>24</th>\n",
       "      <td>Stove</td>\n",
       "      <td>129</td>\n",
       "    </tr>\n",
       "    <tr>\n",
       "      <th>25</th>\n",
       "      <td>Dryer</td>\n",
       "      <td>124</td>\n",
       "    </tr>\n",
       "    <tr>\n",
       "      <th>26</th>\n",
       "      <td>Coffee maker</td>\n",
       "      <td>114</td>\n",
       "    </tr>\n",
       "    <tr>\n",
       "      <th>27</th>\n",
       "      <td>translation missing: en.hosting_amenity_50</td>\n",
       "      <td>113</td>\n",
       "    </tr>\n",
       "    <tr>\n",
       "      <th>28</th>\n",
       "      <td>Luggage dropoff allowed</td>\n",
       "      <td>111</td>\n",
       "    </tr>\n",
       "    <tr>\n",
       "      <th>29</th>\n",
       "      <td>Elevator</td>\n",
       "      <td>104</td>\n",
       "    </tr>\n",
       "  </tbody>\n",
       "</table>\n",
       "</div>"
      ],
      "text/plain": [
       "                                          text  freq\n",
       "0                                      Heating   448\n",
       "1                                         Wifi   434\n",
       "2                                      Kitchen   417\n",
       "3                                   Essentials   362\n",
       "4                                       Washer   358\n",
       "5                                     Internet   349\n",
       "6                                   Hair dryer   340\n",
       "7                                      Hangers   310\n",
       "8                                           TV   305\n",
       "9                                    Hot water   291\n",
       "10                    Buzzer/wireless intercom   283\n",
       "11                   Laptop friendly workspace   279\n",
       "12                         Family/kid friendly   274\n",
       "13                                        Iron   272\n",
       "14                                     Shampoo   198\n",
       "15                             Host greets you   195\n",
       "16                                    Cable TV   170\n",
       "17                              Smoke detector   169\n",
       "18                                  Bed linens   152\n",
       "19                         Free street parking   147\n",
       "20                                Refrigerator   142\n",
       "21                       Dishes and silverware   139\n",
       "22                     Long term stays allowed   139\n",
       "23                              Cooking basics   132\n",
       "24                                       Stove   129\n",
       "25                                       Dryer   124\n",
       "26                                Coffee maker   114\n",
       "27  translation missing: en.hosting_amenity_50   113\n",
       "28                     Luggage dropoff allowed   111\n",
       "29                                    Elevator   104"
      ]
     },
     "execution_count": 31,
     "metadata": {},
     "output_type": "execute_result"
    }
   ],
   "source": [
    "pd_coltext_word_frequency(df_list_sum_tronc, ['amenities'], nb_to_show=30)"
   ]
  },
  {
   "cell_type": "code",
   "execution_count": 32,
   "metadata": {},
   "outputs": [],
   "source": [
    "# Add One hot encoding for some features in the appartment from what is inside 'amenities'\n",
    "\n",
    "df_list_sum_tronc = pd_coltext_extract_tag(df_list_sum_tronc, 'Wifi', 'amenities')\n",
    "df_list_sum_tronc = pd_coltext_extract_tag(df_list_sum_tronc, 'Laptop friendly workspace', 'amenities')\n",
    "df_list_sum_tronc = pd_coltext_extract_tag(df_list_sum_tronc, 'TV', 'amenities')\n",
    "df_list_sum_tronc = pd_coltext_extract_tag(df_list_sum_tronc, 'Free street parking', 'amenities')\n",
    "df_list_sum_tronc = pd_coltext_extract_tag(df_list_sum_tronc, 'Elevator', 'amenities')\n",
    "df_list_sum_tronc = pd_coltext_extract_tag(df_list_sum_tronc, 'Family/kid friendly', 'amenities')"
   ]
  },
  {
   "cell_type": "code",
   "execution_count": 33,
   "metadata": {},
   "outputs": [],
   "source": [
    "# After that, just drop 'amenities' col:\n",
    "#df_list_sum_tronc = pd_col_remove(df_list_sum_tronc, ['amenities'])"
   ]
  },
  {
   "cell_type": "code",
   "execution_count": 34,
   "metadata": {},
   "outputs": [],
   "source": [
    "#columns_to_keep = ['id', 'space', 'description', 'host_has_profile_pic', 'neighbourhood_group_cleansed', \n",
    "#                   'latitude', 'longitude', 'property_type', 'room_type', 'accommodates', 'bathrooms',  \n",
    "#                   'bedrooms', 'bed_type', 'amenities', 'square_feet', 'price', 'cleaning_fee', \n",
    "#                   'security_deposit', 'extra_people', 'guests_included', 'minimum_nights',  \n",
    "#                   'instant_bookable', 'is_business_travel_ready', 'cancellation_policy']"
   ]
  },
  {
   "cell_type": "code",
   "execution_count": 35,
   "metadata": {},
   "outputs": [],
   "source": [
    "text = ['good', 'cozy', 'quiet', 'far', 'big', 'large', 'close', 'family', 'calm']"
   ]
  },
  {
   "cell_type": "code",
   "execution_count": 36,
   "metadata": {},
   "outputs": [
    {
     "name": "stdout",
     "output_type": "stream",
     "text": [
      "(447, 9)\n"
     ]
    }
   ],
   "source": [
    "df_list_sum_tronc = pd_coltext_tfidf(df_list_sum_tronc, text, 'space')"
   ]
  },
  {
   "cell_type": "code",
   "execution_count": 37,
   "metadata": {},
   "outputs": [
    {
     "data": {
      "text/html": [
       "<div>\n",
       "<style scoped>\n",
       "    .dataframe tbody tr th:only-of-type {\n",
       "        vertical-align: middle;\n",
       "    }\n",
       "\n",
       "    .dataframe tbody tr th {\n",
       "        vertical-align: top;\n",
       "    }\n",
       "\n",
       "    .dataframe thead th {\n",
       "        text-align: right;\n",
       "    }\n",
       "</style>\n",
       "<table border=\"1\" class=\"dataframe\">\n",
       "  <thead>\n",
       "    <tr style=\"text-align: right;\">\n",
       "      <th></th>\n",
       "      <th>id</th>\n",
       "      <th>listing_url</th>\n",
       "      <th>scrape_id</th>\n",
       "      <th>last_scraped</th>\n",
       "      <th>name</th>\n",
       "      <th>summary</th>\n",
       "      <th>space</th>\n",
       "      <th>description</th>\n",
       "      <th>experiences_offered</th>\n",
       "      <th>neighborhood_overview</th>\n",
       "      <th>...</th>\n",
       "      <th>Family/kid friendly</th>\n",
       "      <th>good</th>\n",
       "      <th>cozy</th>\n",
       "      <th>quiet</th>\n",
       "      <th>far</th>\n",
       "      <th>big</th>\n",
       "      <th>large</th>\n",
       "      <th>close</th>\n",
       "      <th>family</th>\n",
       "      <th>calm</th>\n",
       "    </tr>\n",
       "  </thead>\n",
       "  <tbody>\n",
       "    <tr>\n",
       "      <th>0</th>\n",
       "      <td>2015.0</td>\n",
       "      <td>https://www.airbnb.com/rooms/2015</td>\n",
       "      <td>2.018111e+13</td>\n",
       "      <td>2018-11-07</td>\n",
       "      <td>Berlin-Mitte Value! Quiet courtyard/very central</td>\n",
       "      <td>Great location!  30 of 75 sq meters. This wood...</td>\n",
       "      <td>A+++ location! This „Einliegerwohnung“ is an e...</td>\n",
       "      <td>Great location!  30 of 75 sq meters. This wood...</td>\n",
       "      <td>none</td>\n",
       "      <td>It is located in the former East Berlin area o...</td>\n",
       "      <td>...</td>\n",
       "      <td>True</td>\n",
       "      <td>0.0</td>\n",
       "      <td>0.000000</td>\n",
       "      <td>0.301511</td>\n",
       "      <td>0.301511</td>\n",
       "      <td>0.0</td>\n",
       "      <td>0.0</td>\n",
       "      <td>0.301511</td>\n",
       "      <td>0.603023</td>\n",
       "      <td>0.603023</td>\n",
       "    </tr>\n",
       "    <tr>\n",
       "      <th>1</th>\n",
       "      <td>2695.0</td>\n",
       "      <td>https://www.airbnb.com/rooms/2695</td>\n",
       "      <td>2.018111e+13</td>\n",
       "      <td>2018-11-07</td>\n",
       "      <td>Prenzlauer Berg close to Mauerpark</td>\n",
       "      <td>NaN</td>\n",
       "      <td>In the summertime we are spending most of our ...</td>\n",
       "      <td>In the summertime we are spending most of our ...</td>\n",
       "      <td>none</td>\n",
       "      <td>NaN</td>\n",
       "      <td>...</td>\n",
       "      <td>False</td>\n",
       "      <td>0.0</td>\n",
       "      <td>0.707107</td>\n",
       "      <td>0.000000</td>\n",
       "      <td>0.000000</td>\n",
       "      <td>0.0</td>\n",
       "      <td>0.0</td>\n",
       "      <td>0.000000</td>\n",
       "      <td>0.000000</td>\n",
       "      <td>0.707107</td>\n",
       "    </tr>\n",
       "  </tbody>\n",
       "</table>\n",
       "<p>2 rows × 112 columns</p>\n",
       "</div>"
      ],
      "text/plain": [
       "       id                        listing_url     scrape_id last_scraped  \\\n",
       "0  2015.0  https://www.airbnb.com/rooms/2015  2.018111e+13   2018-11-07   \n",
       "1  2695.0  https://www.airbnb.com/rooms/2695  2.018111e+13   2018-11-07   \n",
       "\n",
       "                                               name  \\\n",
       "0  Berlin-Mitte Value! Quiet courtyard/very central   \n",
       "1                Prenzlauer Berg close to Mauerpark   \n",
       "\n",
       "                                             summary  \\\n",
       "0  Great location!  30 of 75 sq meters. This wood...   \n",
       "1                                                NaN   \n",
       "\n",
       "                                               space  \\\n",
       "0  A+++ location! This „Einliegerwohnung“ is an e...   \n",
       "1  In the summertime we are spending most of our ...   \n",
       "\n",
       "                                         description experiences_offered  \\\n",
       "0  Great location!  30 of 75 sq meters. This wood...                none   \n",
       "1  In the summertime we are spending most of our ...                none   \n",
       "\n",
       "                               neighborhood_overview  ... Family/kid friendly  \\\n",
       "0  It is located in the former East Berlin area o...  ...                True   \n",
       "1                                                NaN  ...               False   \n",
       "\n",
       "  good      cozy     quiet       far  big  large     close    family      calm  \n",
       "0  0.0  0.000000  0.301511  0.301511  0.0    0.0  0.301511  0.603023  0.603023  \n",
       "1  0.0  0.707107  0.000000  0.000000  0.0    0.0  0.000000  0.000000  0.707107  \n",
       "\n",
       "[2 rows x 112 columns]"
      ]
     },
     "execution_count": 37,
     "metadata": {},
     "output_type": "execute_result"
    }
   ],
   "source": [
    "df_list_sum_tronc.head(2)"
   ]
  },
  {
   "cell_type": "code",
   "execution_count": null,
   "metadata": {},
   "outputs": [],
   "source": []
  }
 ],
 "metadata": {
  "kernelspec": {
   "display_name": "Python 3",
   "language": "python",
   "name": "python3"
  },
  "language_info": {
   "codemirror_mode": {
    "name": "ipython",
    "version": 3
   },
   "file_extension": ".py",
   "mimetype": "text/x-python",
   "name": "python",
   "nbconvert_exporter": "python",
   "pygments_lexer": "ipython3",
   "version": "3.7.3"
  }
 },
 "nbformat": 4,
 "nbformat_minor": 2
}
