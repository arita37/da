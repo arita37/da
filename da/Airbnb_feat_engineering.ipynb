{
 "cells": [
  {
   "cell_type": "code",
   "execution_count": 1,
   "metadata": {},
   "outputs": [
    {
     "name": "stdout",
     "output_type": "stream",
     "text": [
      "No module named 'cufflinks'\n",
      "No module named 'pandas_profiling'\n",
      "os.getcwd /home/maxime/Documents/da-dev/da\n"
     ]
    }
   ],
   "source": [
    "from util_plot import *\n",
    "from util_feature import *  \n",
    "from util_model import * \n",
    "\n",
    "# Counter() does not seem to work when imported\n",
    "from collections import Counter"
   ]
  },
  {
   "cell_type": "code",
   "execution_count": 2,
   "metadata": {},
   "outputs": [],
   "source": [
    "# This was added in util_features\n",
    "\n",
    "from geopy.distance import great_circle"
   ]
  },
  {
   "cell_type": "code",
   "execution_count": 3,
   "metadata": {},
   "outputs": [],
   "source": [
    "file_path = 'data/airbnb/'"
   ]
  },
  {
   "cell_type": "code",
   "execution_count": 4,
   "metadata": {},
   "outputs": [],
   "source": [
    "# Unzip all the docs as csv obviously\n",
    "\n",
    "neighbourhoods = file_path+'neighbourhoods.csv'\n",
    "listings = file_path+'listings.csv'\n",
    "listings_summary = file_path+'listings_summary.csv'\n",
    "reviews = file_path+'reviews.csv'\n",
    "reviews_summary = file_path+'reviews_summary.csv'"
   ]
  },
  {
   "cell_type": "code",
   "execution_count": 5,
   "metadata": {},
   "outputs": [],
   "source": [
    "df_neighb = pd.read_csv(neighbourhoods)\n",
    "df_list = pd.read_csv(listings)\n",
    "df_list_sum = pd.read_csv(listings_summary)\n",
    "df_rev = pd.read_csv(reviews)\n",
    "df_rev_sum = pd.read_csv(reviews_summary)\n",
    "\n",
    "list_dataframes = [df_neighb, df_list, df_list_sum, df_rev, df_rev_sum]"
   ]
  },
  {
   "cell_type": "code",
   "execution_count": 6,
   "metadata": {},
   "outputs": [
    {
     "name": "stdout",
     "output_type": "stream",
     "text": [
      "shape of dataframe 1 is: (139, 2)\n",
      "shape of dataframe 2 is: (22552, 16)\n",
      "shape of dataframe 3 is: (453, 96)\n",
      "shape of dataframe 4 is: (401963, 2)\n",
      "shape of dataframe 5 is: (15695, 6)\n"
     ]
    }
   ],
   "source": [
    "shape_type_df = pd_dflist_shape(list_dataframes)"
   ]
  },
  {
   "cell_type": "code",
   "execution_count": 7,
   "metadata": {},
   "outputs": [
    {
     "data": {
      "text/html": [
       "<div>\n",
       "<style scoped>\n",
       "    .dataframe tbody tr th:only-of-type {\n",
       "        vertical-align: middle;\n",
       "    }\n",
       "\n",
       "    .dataframe tbody tr th {\n",
       "        vertical-align: top;\n",
       "    }\n",
       "\n",
       "    .dataframe thead th {\n",
       "        text-align: right;\n",
       "    }\n",
       "</style>\n",
       "<table border=\"1\" class=\"dataframe\">\n",
       "  <thead>\n",
       "    <tr style=\"text-align: right;\">\n",
       "      <th></th>\n",
       "      <th>neighbourhood_group</th>\n",
       "      <th>neighbourhood</th>\n",
       "    </tr>\n",
       "  </thead>\n",
       "  <tbody>\n",
       "    <tr>\n",
       "      <th>0</th>\n",
       "      <td>Charlottenburg-Wilm.</td>\n",
       "      <td>Barstraße</td>\n",
       "    </tr>\n",
       "    <tr>\n",
       "      <th>1</th>\n",
       "      <td>Charlottenburg-Wilm.</td>\n",
       "      <td>Charlottenburg Nord</td>\n",
       "    </tr>\n",
       "    <tr>\n",
       "      <th>2</th>\n",
       "      <td>Charlottenburg-Wilm.</td>\n",
       "      <td>Düsseldorfer Straße</td>\n",
       "    </tr>\n",
       "    <tr>\n",
       "      <th>3</th>\n",
       "      <td>Charlottenburg-Wilm.</td>\n",
       "      <td>Forst Grunewald</td>\n",
       "    </tr>\n",
       "    <tr>\n",
       "      <th>4</th>\n",
       "      <td>Charlottenburg-Wilm.</td>\n",
       "      <td>Grunewald</td>\n",
       "    </tr>\n",
       "  </tbody>\n",
       "</table>\n",
       "</div>"
      ],
      "text/plain": [
       "    neighbourhood_group        neighbourhood\n",
       "0  Charlottenburg-Wilm.            Barstraße\n",
       "1  Charlottenburg-Wilm.  Charlottenburg Nord\n",
       "2  Charlottenburg-Wilm.  Düsseldorfer Straße\n",
       "3  Charlottenburg-Wilm.      Forst Grunewald\n",
       "4  Charlottenburg-Wilm.            Grunewald"
      ]
     },
     "execution_count": 7,
     "metadata": {},
     "output_type": "execute_result"
    }
   ],
   "source": [
    "df_neighb.head()"
   ]
  },
  {
   "cell_type": "code",
   "execution_count": 8,
   "metadata": {},
   "outputs": [
    {
     "data": {
      "text/html": [
       "<div>\n",
       "<style scoped>\n",
       "    .dataframe tbody tr th:only-of-type {\n",
       "        vertical-align: middle;\n",
       "    }\n",
       "\n",
       "    .dataframe tbody tr th {\n",
       "        vertical-align: top;\n",
       "    }\n",
       "\n",
       "    .dataframe thead th {\n",
       "        text-align: right;\n",
       "    }\n",
       "</style>\n",
       "<table border=\"1\" class=\"dataframe\">\n",
       "  <thead>\n",
       "    <tr style=\"text-align: right;\">\n",
       "      <th></th>\n",
       "      <th>id</th>\n",
       "      <th>name</th>\n",
       "      <th>host_id</th>\n",
       "      <th>host_name</th>\n",
       "      <th>neighbourhood_group</th>\n",
       "      <th>neighbourhood</th>\n",
       "      <th>latitude</th>\n",
       "      <th>longitude</th>\n",
       "      <th>room_type</th>\n",
       "      <th>price</th>\n",
       "      <th>minimum_nights</th>\n",
       "      <th>number_of_reviews</th>\n",
       "      <th>last_review</th>\n",
       "      <th>reviews_per_month</th>\n",
       "      <th>calculated_host_listings_count</th>\n",
       "      <th>availability_365</th>\n",
       "    </tr>\n",
       "  </thead>\n",
       "  <tbody>\n",
       "    <tr>\n",
       "      <th>0</th>\n",
       "      <td>2015</td>\n",
       "      <td>Berlin-Mitte Value! Quiet courtyard/very central</td>\n",
       "      <td>2217</td>\n",
       "      <td>Ian</td>\n",
       "      <td>Mitte</td>\n",
       "      <td>Brunnenstr. Süd</td>\n",
       "      <td>52.534537</td>\n",
       "      <td>13.402557</td>\n",
       "      <td>Entire home/apt</td>\n",
       "      <td>60</td>\n",
       "      <td>4</td>\n",
       "      <td>118</td>\n",
       "      <td>2018-10-28</td>\n",
       "      <td>3.76</td>\n",
       "      <td>4</td>\n",
       "      <td>141</td>\n",
       "    </tr>\n",
       "    <tr>\n",
       "      <th>1</th>\n",
       "      <td>2695</td>\n",
       "      <td>Prenzlauer Berg close to Mauerpark</td>\n",
       "      <td>2986</td>\n",
       "      <td>Michael</td>\n",
       "      <td>Pankow</td>\n",
       "      <td>Prenzlauer Berg Nordwest</td>\n",
       "      <td>52.548513</td>\n",
       "      <td>13.404553</td>\n",
       "      <td>Private room</td>\n",
       "      <td>17</td>\n",
       "      <td>2</td>\n",
       "      <td>6</td>\n",
       "      <td>2018-10-01</td>\n",
       "      <td>1.42</td>\n",
       "      <td>1</td>\n",
       "      <td>0</td>\n",
       "    </tr>\n",
       "    <tr>\n",
       "      <th>2</th>\n",
       "      <td>3176</td>\n",
       "      <td>Fabulous Flat in great Location</td>\n",
       "      <td>3718</td>\n",
       "      <td>Britta</td>\n",
       "      <td>Pankow</td>\n",
       "      <td>Prenzlauer Berg Südwest</td>\n",
       "      <td>52.534996</td>\n",
       "      <td>13.417579</td>\n",
       "      <td>Entire home/apt</td>\n",
       "      <td>90</td>\n",
       "      <td>62</td>\n",
       "      <td>143</td>\n",
       "      <td>2017-03-20</td>\n",
       "      <td>1.25</td>\n",
       "      <td>1</td>\n",
       "      <td>220</td>\n",
       "    </tr>\n",
       "  </tbody>\n",
       "</table>\n",
       "</div>"
      ],
      "text/plain": [
       "     id                                              name  host_id host_name  \\\n",
       "0  2015  Berlin-Mitte Value! Quiet courtyard/very central     2217       Ian   \n",
       "1  2695                Prenzlauer Berg close to Mauerpark     2986   Michael   \n",
       "2  3176                   Fabulous Flat in great Location     3718    Britta   \n",
       "\n",
       "  neighbourhood_group             neighbourhood   latitude  longitude  \\\n",
       "0               Mitte           Brunnenstr. Süd  52.534537  13.402557   \n",
       "1              Pankow  Prenzlauer Berg Nordwest  52.548513  13.404553   \n",
       "2              Pankow   Prenzlauer Berg Südwest  52.534996  13.417579   \n",
       "\n",
       "         room_type  price  minimum_nights  number_of_reviews last_review  \\\n",
       "0  Entire home/apt     60               4                118  2018-10-28   \n",
       "1     Private room     17               2                  6  2018-10-01   \n",
       "2  Entire home/apt     90              62                143  2017-03-20   \n",
       "\n",
       "   reviews_per_month  calculated_host_listings_count  availability_365  \n",
       "0               3.76                               4               141  \n",
       "1               1.42                               1                 0  \n",
       "2               1.25                               1               220  "
      ]
     },
     "execution_count": 8,
     "metadata": {},
     "output_type": "execute_result"
    }
   ],
   "source": [
    "df_list.head(3)"
   ]
  },
  {
   "cell_type": "code",
   "execution_count": 9,
   "metadata": {},
   "outputs": [
    {
     "data": {
      "text/plain": [
       "Index(['id', 'name', 'host_id', 'host_name', 'neighbourhood_group',\n",
       "       'neighbourhood', 'latitude', 'longitude', 'room_type', 'price',\n",
       "       'minimum_nights', 'number_of_reviews', 'last_review',\n",
       "       'reviews_per_month', 'calculated_host_listings_count',\n",
       "       'availability_365'],\n",
       "      dtype='object')"
      ]
     },
     "execution_count": 9,
     "metadata": {},
     "output_type": "execute_result"
    }
   ],
   "source": [
    "df_list.columns"
   ]
  },
  {
   "cell_type": "code",
   "execution_count": 10,
   "metadata": {},
   "outputs": [
    {
     "data": {
      "text/html": [
       "<div>\n",
       "<style scoped>\n",
       "    .dataframe tbody tr th:only-of-type {\n",
       "        vertical-align: middle;\n",
       "    }\n",
       "\n",
       "    .dataframe tbody tr th {\n",
       "        vertical-align: top;\n",
       "    }\n",
       "\n",
       "    .dataframe thead th {\n",
       "        text-align: right;\n",
       "    }\n",
       "</style>\n",
       "<table border=\"1\" class=\"dataframe\">\n",
       "  <thead>\n",
       "    <tr style=\"text-align: right;\">\n",
       "      <th></th>\n",
       "      <th>id</th>\n",
       "      <th>listing_url</th>\n",
       "      <th>scrape_id</th>\n",
       "      <th>last_scraped</th>\n",
       "      <th>name</th>\n",
       "      <th>summary</th>\n",
       "      <th>space</th>\n",
       "      <th>description</th>\n",
       "      <th>experiences_offered</th>\n",
       "      <th>neighborhood_overview</th>\n",
       "      <th>...</th>\n",
       "      <th>requires_license</th>\n",
       "      <th>license</th>\n",
       "      <th>jurisdiction_names</th>\n",
       "      <th>instant_bookable</th>\n",
       "      <th>is_business_travel_ready</th>\n",
       "      <th>cancellation_policy</th>\n",
       "      <th>require_guest_profile_picture</th>\n",
       "      <th>require_guest_phone_verification</th>\n",
       "      <th>calculated_host_listings_count</th>\n",
       "      <th>reviews_per_month</th>\n",
       "    </tr>\n",
       "  </thead>\n",
       "  <tbody>\n",
       "    <tr>\n",
       "      <th>0</th>\n",
       "      <td>2015</td>\n",
       "      <td>https://www.airbnb.com/rooms/2015</td>\n",
       "      <td>20181107122246</td>\n",
       "      <td>2018-11-07</td>\n",
       "      <td>Berlin-Mitte Value! Quiet courtyard/very central</td>\n",
       "      <td>Great location!  30 of 75 sq meters. This wood...</td>\n",
       "      <td>A+++ location! This „Einliegerwohnung“ is an e...</td>\n",
       "      <td>Great location!  30 of 75 sq meters. This wood...</td>\n",
       "      <td>none</td>\n",
       "      <td>It is located in the former East Berlin area o...</td>\n",
       "      <td>...</td>\n",
       "      <td>t</td>\n",
       "      <td>NaN</td>\n",
       "      <td>NaN</td>\n",
       "      <td>f</td>\n",
       "      <td>f</td>\n",
       "      <td>strict_14_with_grace_period</td>\n",
       "      <td>f</td>\n",
       "      <td>f</td>\n",
       "      <td>4</td>\n",
       "      <td>3.76</td>\n",
       "    </tr>\n",
       "  </tbody>\n",
       "</table>\n",
       "<p>1 rows × 96 columns</p>\n",
       "</div>"
      ],
      "text/plain": [
       "     id                        listing_url       scrape_id last_scraped  \\\n",
       "0  2015  https://www.airbnb.com/rooms/2015  20181107122246   2018-11-07   \n",
       "\n",
       "                                               name  \\\n",
       "0  Berlin-Mitte Value! Quiet courtyard/very central   \n",
       "\n",
       "                                             summary  \\\n",
       "0  Great location!  30 of 75 sq meters. This wood...   \n",
       "\n",
       "                                               space  \\\n",
       "0  A+++ location! This „Einliegerwohnung“ is an e...   \n",
       "\n",
       "                                         description experiences_offered  \\\n",
       "0  Great location!  30 of 75 sq meters. This wood...                none   \n",
       "\n",
       "                               neighborhood_overview  ... requires_license  \\\n",
       "0  It is located in the former East Berlin area o...  ...                t   \n",
       "\n",
       "  license jurisdiction_names instant_bookable is_business_travel_ready  \\\n",
       "0     NaN                NaN                f                        f   \n",
       "\n",
       "           cancellation_policy  require_guest_profile_picture  \\\n",
       "0  strict_14_with_grace_period                              f   \n",
       "\n",
       "  require_guest_phone_verification  calculated_host_listings_count  \\\n",
       "0                                f                               4   \n",
       "\n",
       "   reviews_per_month  \n",
       "0               3.76  \n",
       "\n",
       "[1 rows x 96 columns]"
      ]
     },
     "execution_count": 10,
     "metadata": {},
     "output_type": "execute_result"
    }
   ],
   "source": [
    "df_list_sum.head(1)"
   ]
  },
  {
   "cell_type": "code",
   "execution_count": 11,
   "metadata": {},
   "outputs": [
    {
     "data": {
      "text/plain": [
       "Index(['id', 'listing_url', 'scrape_id', 'last_scraped', 'name', 'summary',\n",
       "       'space', 'description', 'experiences_offered', 'neighborhood_overview',\n",
       "       'notes', 'transit', 'access', 'interaction', 'house_rules',\n",
       "       'thumbnail_url', 'medium_url', 'picture_url', 'xl_picture_url',\n",
       "       'host_id', 'host_url', 'host_name', 'host_since', 'host_location',\n",
       "       'host_about', 'host_response_time', 'host_response_rate',\n",
       "       'host_acceptance_rate', 'host_is_superhost', 'host_thumbnail_url',\n",
       "       'host_picture_url', 'host_neighbourhood', 'host_listings_count',\n",
       "       'host_total_listings_count', 'host_verifications',\n",
       "       'host_has_profile_pic', 'host_identity_verified', 'street',\n",
       "       'neighbourhood', 'neighbourhood_cleansed',\n",
       "       'neighbourhood_group_cleansed', 'city', 'state', 'zipcode', 'market',\n",
       "       'smart_location', 'country_code', 'country', 'latitude', 'longitude',\n",
       "       'is_location_exact', 'property_type', 'room_type', 'accommodates',\n",
       "       'bathrooms', 'bedrooms', 'beds', 'bed_type', 'amenities', 'square_feet',\n",
       "       'price', 'weekly_price', 'monthly_price', 'security_deposit',\n",
       "       'cleaning_fee', 'guests_included', 'extra_people', 'minimum_nights',\n",
       "       'maximum_nights', 'calendar_updated', 'has_availability',\n",
       "       'availability_30', 'availability_60', 'availability_90',\n",
       "       'availability_365', 'calendar_last_scraped', 'number_of_reviews',\n",
       "       'first_review', 'last_review', 'review_scores_rating',\n",
       "       'review_scores_accuracy', 'review_scores_cleanliness',\n",
       "       'review_scores_checkin', 'review_scores_communication',\n",
       "       'review_scores_location', 'review_scores_value', 'requires_license',\n",
       "       'license', 'jurisdiction_names', 'instant_bookable',\n",
       "       'is_business_travel_ready', 'cancellation_policy',\n",
       "       'require_guest_profile_picture', 'require_guest_phone_verification',\n",
       "       'calculated_host_listings_count', 'reviews_per_month'],\n",
       "      dtype='object')"
      ]
     },
     "execution_count": 11,
     "metadata": {},
     "output_type": "execute_result"
    }
   ],
   "source": [
    "df_list_sum.columns"
   ]
  },
  {
   "cell_type": "code",
   "execution_count": 12,
   "metadata": {},
   "outputs": [
    {
     "data": {
      "text/html": [
       "<div>\n",
       "<style scoped>\n",
       "    .dataframe tbody tr th:only-of-type {\n",
       "        vertical-align: middle;\n",
       "    }\n",
       "\n",
       "    .dataframe tbody tr th {\n",
       "        vertical-align: top;\n",
       "    }\n",
       "\n",
       "    .dataframe thead th {\n",
       "        text-align: right;\n",
       "    }\n",
       "</style>\n",
       "<table border=\"1\" class=\"dataframe\">\n",
       "  <thead>\n",
       "    <tr style=\"text-align: right;\">\n",
       "      <th></th>\n",
       "      <th>listing_id</th>\n",
       "      <th>date</th>\n",
       "    </tr>\n",
       "  </thead>\n",
       "  <tbody>\n",
       "    <tr>\n",
       "      <th>0</th>\n",
       "      <td>2015</td>\n",
       "      <td>2016-04-11</td>\n",
       "    </tr>\n",
       "    <tr>\n",
       "      <th>1</th>\n",
       "      <td>2015</td>\n",
       "      <td>2016-04-15</td>\n",
       "    </tr>\n",
       "    <tr>\n",
       "      <th>2</th>\n",
       "      <td>2015</td>\n",
       "      <td>2016-04-26</td>\n",
       "    </tr>\n",
       "  </tbody>\n",
       "</table>\n",
       "</div>"
      ],
      "text/plain": [
       "   listing_id        date\n",
       "0        2015  2016-04-11\n",
       "1        2015  2016-04-15\n",
       "2        2015  2016-04-26"
      ]
     },
     "execution_count": 12,
     "metadata": {},
     "output_type": "execute_result"
    }
   ],
   "source": [
    "df_rev.head(3)"
   ]
  },
  {
   "cell_type": "code",
   "execution_count": 13,
   "metadata": {},
   "outputs": [
    {
     "data": {
      "text/html": [
       "<div>\n",
       "<style scoped>\n",
       "    .dataframe tbody tr th:only-of-type {\n",
       "        vertical-align: middle;\n",
       "    }\n",
       "\n",
       "    .dataframe tbody tr th {\n",
       "        vertical-align: top;\n",
       "    }\n",
       "\n",
       "    .dataframe thead th {\n",
       "        text-align: right;\n",
       "    }\n",
       "</style>\n",
       "<table border=\"1\" class=\"dataframe\">\n",
       "  <thead>\n",
       "    <tr style=\"text-align: right;\">\n",
       "      <th></th>\n",
       "      <th>listing_id</th>\n",
       "      <th>id</th>\n",
       "      <th>date</th>\n",
       "      <th>reviewer_id</th>\n",
       "      <th>reviewer_name</th>\n",
       "      <th>comments</th>\n",
       "    </tr>\n",
       "  </thead>\n",
       "  <tbody>\n",
       "    <tr>\n",
       "      <th>0</th>\n",
       "      <td>2015</td>\n",
       "      <td>69544350</td>\n",
       "      <td>2016-04-11</td>\n",
       "      <td>7178145</td>\n",
       "      <td>Rahel</td>\n",
       "      <td>Mein Freund und ich hatten gute gemütliche vie...</td>\n",
       "    </tr>\n",
       "    <tr>\n",
       "      <th>1</th>\n",
       "      <td>2015</td>\n",
       "      <td>69990732</td>\n",
       "      <td>2016-04-15</td>\n",
       "      <td>41944715</td>\n",
       "      <td>Hannah</td>\n",
       "      <td>Jan was very friendly and welcoming host! The ...</td>\n",
       "    </tr>\n",
       "    <tr>\n",
       "      <th>2</th>\n",
       "      <td>2015</td>\n",
       "      <td>71605267</td>\n",
       "      <td>2016-04-26</td>\n",
       "      <td>30048708</td>\n",
       "      <td>Victor</td>\n",
       "      <td>Un appartement tres bien situé dans un quartie...</td>\n",
       "    </tr>\n",
       "  </tbody>\n",
       "</table>\n",
       "</div>"
      ],
      "text/plain": [
       "   listing_id        id        date  reviewer_id reviewer_name  \\\n",
       "0        2015  69544350  2016-04-11      7178145         Rahel   \n",
       "1        2015  69990732  2016-04-15     41944715        Hannah   \n",
       "2        2015  71605267  2016-04-26     30048708        Victor   \n",
       "\n",
       "                                            comments  \n",
       "0  Mein Freund und ich hatten gute gemütliche vie...  \n",
       "1  Jan was very friendly and welcoming host! The ...  \n",
       "2  Un appartement tres bien situé dans un quartie...  "
      ]
     },
     "execution_count": 13,
     "metadata": {},
     "output_type": "execute_result"
    }
   ],
   "source": [
    "df_rev_sum.head(3)"
   ]
  },
  {
   "cell_type": "markdown",
   "metadata": {},
   "source": [
    "Only looking at listings.csv, to get an idea of the functions"
   ]
  },
  {
   "cell_type": "code",
   "execution_count": 14,
   "metadata": {},
   "outputs": [
    {
     "data": {
      "text/html": [
       "<div>\n",
       "<style scoped>\n",
       "    .dataframe tbody tr th:only-of-type {\n",
       "        vertical-align: middle;\n",
       "    }\n",
       "\n",
       "    .dataframe tbody tr th {\n",
       "        vertical-align: top;\n",
       "    }\n",
       "\n",
       "    .dataframe thead th {\n",
       "        text-align: right;\n",
       "    }\n",
       "</style>\n",
       "<table border=\"1\" class=\"dataframe\">\n",
       "  <thead>\n",
       "    <tr style=\"text-align: right;\">\n",
       "      <th></th>\n",
       "      <th>col</th>\n",
       "      <th>nunique</th>\n",
       "      <th>ratio</th>\n",
       "      <th>coltype</th>\n",
       "    </tr>\n",
       "  </thead>\n",
       "  <tbody>\n",
       "    <tr>\n",
       "      <th>0</th>\n",
       "      <td>id</td>\n",
       "      <td>22552</td>\n",
       "      <td>1.000000</td>\n",
       "      <td>num</td>\n",
       "    </tr>\n",
       "    <tr>\n",
       "      <th>1</th>\n",
       "      <td>name</td>\n",
       "      <td>21873</td>\n",
       "      <td>0.969892</td>\n",
       "      <td>num</td>\n",
       "    </tr>\n",
       "    <tr>\n",
       "      <th>2</th>\n",
       "      <td>host_id</td>\n",
       "      <td>19180</td>\n",
       "      <td>0.850479</td>\n",
       "      <td>num</td>\n",
       "    </tr>\n",
       "    <tr>\n",
       "      <th>3</th>\n",
       "      <td>host_name</td>\n",
       "      <td>5997</td>\n",
       "      <td>0.265919</td>\n",
       "      <td>num</td>\n",
       "    </tr>\n",
       "    <tr>\n",
       "      <th>4</th>\n",
       "      <td>neighbourhood_group</td>\n",
       "      <td>12</td>\n",
       "      <td>0.000532</td>\n",
       "      <td>cat</td>\n",
       "    </tr>\n",
       "    <tr>\n",
       "      <th>5</th>\n",
       "      <td>neighbourhood</td>\n",
       "      <td>136</td>\n",
       "      <td>0.006031</td>\n",
       "      <td>num</td>\n",
       "    </tr>\n",
       "    <tr>\n",
       "      <th>6</th>\n",
       "      <td>latitude</td>\n",
       "      <td>22552</td>\n",
       "      <td>1.000000</td>\n",
       "      <td>num</td>\n",
       "    </tr>\n",
       "    <tr>\n",
       "      <th>7</th>\n",
       "      <td>longitude</td>\n",
       "      <td>22552</td>\n",
       "      <td>1.000000</td>\n",
       "      <td>num</td>\n",
       "    </tr>\n",
       "    <tr>\n",
       "      <th>8</th>\n",
       "      <td>room_type</td>\n",
       "      <td>3</td>\n",
       "      <td>0.000133</td>\n",
       "      <td>cat</td>\n",
       "    </tr>\n",
       "    <tr>\n",
       "      <th>9</th>\n",
       "      <td>price</td>\n",
       "      <td>295</td>\n",
       "      <td>0.013081</td>\n",
       "      <td>num</td>\n",
       "    </tr>\n",
       "    <tr>\n",
       "      <th>10</th>\n",
       "      <td>minimum_nights</td>\n",
       "      <td>102</td>\n",
       "      <td>0.004523</td>\n",
       "      <td>num</td>\n",
       "    </tr>\n",
       "    <tr>\n",
       "      <th>11</th>\n",
       "      <td>number_of_reviews</td>\n",
       "      <td>306</td>\n",
       "      <td>0.013569</td>\n",
       "      <td>num</td>\n",
       "    </tr>\n",
       "    <tr>\n",
       "      <th>12</th>\n",
       "      <td>last_review</td>\n",
       "      <td>1312</td>\n",
       "      <td>0.058177</td>\n",
       "      <td>num</td>\n",
       "    </tr>\n",
       "    <tr>\n",
       "      <th>13</th>\n",
       "      <td>reviews_per_month</td>\n",
       "      <td>768</td>\n",
       "      <td>0.034055</td>\n",
       "      <td>num</td>\n",
       "    </tr>\n",
       "    <tr>\n",
       "      <th>14</th>\n",
       "      <td>calculated_host_listings_count</td>\n",
       "      <td>23</td>\n",
       "      <td>0.001020</td>\n",
       "      <td>cat</td>\n",
       "    </tr>\n",
       "    <tr>\n",
       "      <th>15</th>\n",
       "      <td>availability_365</td>\n",
       "      <td>366</td>\n",
       "      <td>0.016229</td>\n",
       "      <td>num</td>\n",
       "    </tr>\n",
       "  </tbody>\n",
       "</table>\n",
       "</div>"
      ],
      "text/plain": [
       "                               col  nunique     ratio coltype\n",
       "0                               id    22552  1.000000     num\n",
       "1                             name    21873  0.969892     num\n",
       "2                          host_id    19180  0.850479     num\n",
       "3                        host_name     5997  0.265919     num\n",
       "4              neighbourhood_group       12  0.000532     cat\n",
       "5                    neighbourhood      136  0.006031     num\n",
       "6                         latitude    22552  1.000000     num\n",
       "7                        longitude    22552  1.000000     num\n",
       "8                        room_type        3  0.000133     cat\n",
       "9                            price      295  0.013081     num\n",
       "10                  minimum_nights      102  0.004523     num\n",
       "11               number_of_reviews      306  0.013569     num\n",
       "12                     last_review     1312  0.058177     num\n",
       "13               reviews_per_month      768  0.034055     num\n",
       "14  calculated_host_listings_count       23  0.001020     cat\n",
       "15                availability_365      366  0.016229     num"
      ]
     },
     "execution_count": 14,
     "metadata": {},
     "output_type": "execute_result"
    }
   ],
   "source": [
    "df_unique_values = pd_stat_col(df_list)\n",
    "df_unique_values"
   ]
  },
  {
   "cell_type": "code",
   "execution_count": 15,
   "metadata": {},
   "outputs": [
    {
     "name": "stdout",
     "output_type": "stream",
     "text": [
      "room_type 3 (22552, 16)\n",
      "neighbourhood_group 12 (22552, 18)\n",
      "calculated_host_listings_count 23 (22552, 29)\n"
     ]
    }
   ],
   "source": [
    "# One hot encoding of all the necessary columns\n",
    "\n",
    "df_list = pd_col_to_onehot(df_list, ['room_type'])\n",
    "df_list = pd_col_to_onehot(df_list, ['neighbourhood_group'])\n",
    "df_list = pd_col_to_onehot(df_list, ['calculated_host_listings_count'])"
   ]
  },
  {
   "cell_type": "code",
   "execution_count": 16,
   "metadata": {},
   "outputs": [
    {
     "data": {
      "image/png": "[encoded data removed]",
      "text/plain": [
       "<Figure size 432x288 with 1 Axes>"
      ]
     },
     "metadata": {
      "needs_background": "light"
     },
     "output_type": "display_data"
    }
   ],
   "source": [
    "plot_pair(df_list, ['price'], ['minimum_nights'])"
   ]
  },
  {
   "cell_type": "code",
   "execution_count": 17,
   "metadata": {},
   "outputs": [
    {
     "data": {
      "image/png": "[encoded data removed]",
      "text/plain": [
       "<Figure size 576x432 with 1 Axes>"
      ]
     },
     "metadata": {
      "needs_background": "light"
     },
     "output_type": "display_data"
    }
   ],
   "source": [
    "plot_Y(df_list['price'])"
   ]
  },
  {
   "cell_type": "code",
   "execution_count": 18,
   "metadata": {},
   "outputs": [
    {
     "name": "stdout",
     "output_type": "stream",
     "text": [
      "('NaN count:', 0, 'Unique count:', 295)\n",
      "('Max:', 9000, 'Min:', 0)\n",
      "('Median', 45.0, 'Mean:', 67.14366796736431, 'Std:', 220.2613265910614)\n"
     ]
    },
    {
     "data": {
      "image/png": "[encoded data removed]",
      "text/plain": [
       "<Figure size 576x360 with 1 Axes>"
      ]
     },
     "metadata": {
      "needs_background": "light"
     },
     "output_type": "display_data"
    },
    {
     "name": "stderr",
     "output_type": "stream",
     "text": [
      "/home/maxime/anaconda3/envs/tf-gpu/lib/python3.7/site-packages/matplotlib/axes/_axes.py:6521: MatplotlibDeprecationWarning:\n",
      "\n",
      "\n",
      "The 'normed' kwarg was deprecated in Matplotlib 2.1 and will be removed in 3.1. Use 'density' instead.\n",
      "\n"
     ]
    },
    {
     "data": {
      "image/png": "[encoded data removed]",
      "text/plain": [
       "<Figure size 432x288 with 1 Axes>"
      ]
     },
     "metadata": {
      "needs_background": "light"
     },
     "output_type": "display_data"
    },
    {
     "data": {
      "image/png": "[encoded data removed]",
      "text/plain": [
       "<Figure size 576x360 with 1 Axes>"
      ]
     },
     "metadata": {
      "needs_background": "light"
     },
     "output_type": "display_data"
    }
   ],
   "source": [
    "plot_col_distribution(df_list, ['price'])"
   ]
  },
  {
   "cell_type": "markdown",
   "metadata": {},
   "source": [
    "Now work on listings_summary.csv"
   ]
  },
  {
   "cell_type": "code",
   "execution_count": 19,
   "metadata": {},
   "outputs": [],
   "source": [
    "# First, we only keep certain columns:\n",
    "\n",
    "columns_to_keep = ['id', 'space', 'description', 'host_has_profile_pic', 'neighbourhood_group_cleansed', \n",
    "                   'latitude', 'longitude', 'property_type', 'room_type', 'accommodates', 'bathrooms',  \n",
    "                   'bedrooms', 'bed_type', 'amenities', 'square_feet', 'price', 'cleaning_fee', \n",
    "                   'security_deposit', 'extra_people', 'guests_included', 'minimum_nights',  \n",
    "                   'instant_bookable', 'is_business_travel_ready', 'cancellation_policy']"
   ]
  },
  {
   "cell_type": "code",
   "execution_count": 20,
   "metadata": {},
   "outputs": [],
   "source": [
    "df_list_sum_tronc = pd_col_keep(df_list_sum, columns_to_keep, ['id'])"
   ]
  },
  {
   "cell_type": "code",
   "execution_count": 21,
   "metadata": {},
   "outputs": [
    {
     "data": {
      "text/plain": [
       "(453, 23)"
      ]
     },
     "execution_count": 21,
     "metadata": {},
     "output_type": "execute_result"
    }
   ],
   "source": [
    "df_list_sum_tronc.shape"
   ]
  },
  {
   "cell_type": "code",
   "execution_count": 22,
   "metadata": {},
   "outputs": [
    {
     "data": {
      "text/html": [
       "<div>\n",
       "<style scoped>\n",
       "    .dataframe tbody tr th:only-of-type {\n",
       "        vertical-align: middle;\n",
       "    }\n",
       "\n",
       "    .dataframe tbody tr th {\n",
       "        vertical-align: top;\n",
       "    }\n",
       "\n",
       "    .dataframe thead th {\n",
       "        text-align: right;\n",
       "    }\n",
       "</style>\n",
       "<table border=\"1\" class=\"dataframe\">\n",
       "  <thead>\n",
       "    <tr style=\"text-align: right;\">\n",
       "      <th></th>\n",
       "      <th>price</th>\n",
       "      <th>cleaning_fee</th>\n",
       "      <th>extra_people</th>\n",
       "      <th>security_deposit</th>\n",
       "    </tr>\n",
       "    <tr>\n",
       "      <th>id</th>\n",
       "      <th></th>\n",
       "      <th></th>\n",
       "      <th></th>\n",
       "      <th></th>\n",
       "    </tr>\n",
       "  </thead>\n",
       "  <tbody>\n",
       "    <tr>\n",
       "      <th>2015</th>\n",
       "      <td>$60.00</td>\n",
       "      <td>$30.00</td>\n",
       "      <td>$28.00</td>\n",
       "      <td>$200.00</td>\n",
       "    </tr>\n",
       "    <tr>\n",
       "      <th>2695</th>\n",
       "      <td>$17.00</td>\n",
       "      <td>$0.00</td>\n",
       "      <td>$0.00</td>\n",
       "      <td>$0.00</td>\n",
       "    </tr>\n",
       "    <tr>\n",
       "      <th>3176</th>\n",
       "      <td>$90.00</td>\n",
       "      <td>$50.00</td>\n",
       "      <td>$20.00</td>\n",
       "      <td>$200.00</td>\n",
       "    </tr>\n",
       "  </tbody>\n",
       "</table>\n",
       "</div>"
      ],
      "text/plain": [
       "       price cleaning_fee extra_people security_deposit\n",
       "id                                                     \n",
       "2015  $60.00       $30.00       $28.00          $200.00\n",
       "2695  $17.00        $0.00        $0.00            $0.00\n",
       "3176  $90.00       $50.00       $20.00          $200.00"
      ]
     },
     "execution_count": 22,
     "metadata": {},
     "output_type": "execute_result"
    }
   ],
   "source": [
    "df_list_sum_tronc[['price', 'cleaning_fee', 'extra_people', 'security_deposit']].head(3)"
   ]
  },
  {
   "cell_type": "code",
   "execution_count": 23,
   "metadata": {},
   "outputs": [],
   "source": [
    "column_list = ['price', 'cleaning_fee', 'extra_people', 'security_deposit']\n",
    "df_list_sum_tronc = pd_col_remove_text(df_list_sum_tronc, column_list, '$')"
   ]
  },
  {
   "cell_type": "code",
   "execution_count": 24,
   "metadata": {},
   "outputs": [],
   "source": [
    "def pd_col_fill_nan(df, col_list, value):\n",
    "    '''\n",
    "    Function to fill NaNs with a specific value in certain columns\n",
    "    Arguments:\n",
    "        df:            dataframe\n",
    "        col_list:      list of columns to remove text\n",
    "        value:         value to replace NaNs with\n",
    "    Returns:\n",
    "        df:            new dataframe with filled values\n",
    "    '''\n",
    "    \n",
    "    for col in col_list:\n",
    "        nb_nans = df[col].isna().sum()\n",
    "        if nb_nans == 0:\n",
    "            pass\n",
    "        else:\n",
    "            print(f'there were {nb_nans} empty values in {col}')\n",
    "            df = df\n",
    "            df[col].fillna(value)\n",
    "            nb_nans = df[col].isna().sum()\n",
    "    \n",
    "        print(f'there are {nb_nans} empty values in {col}')\n",
    "    return df"
   ]
  },
  {
   "cell_type": "code",
   "execution_count": 25,
   "metadata": {},
   "outputs": [
    {
     "name": "stdout",
     "output_type": "stream",
     "text": [
      "there are 0 empty values in price\n",
      "there were 48 empty values in cleaning_fee\n",
      "there are 48 empty values in cleaning_fee\n",
      "there are 0 empty values in extra_people\n",
      "there were 114 empty values in security_deposit\n",
      "there are 114 empty values in security_deposit\n"
     ]
    }
   ],
   "source": [
    "df_list_sum_tronc = pd_col_fill_nan(df_list_sum_tronc, column_list, 0.0)"
   ]
  },
  {
   "cell_type": "markdown",
   "metadata": {},
   "source": [
    "As was seen in the plotting of the price, there are huge outliers in the price (some apartments are very expensive, but there are very few of those)"
   ]
  },
  {
   "cell_type": "code",
   "execution_count": 26,
   "metadata": {},
   "outputs": [],
   "source": [
    "df_list_sum_tronc = pd_row_drop_above_thresh(df_list_sum_tronc, 'price', thresh=500)"
   ]
  },
  {
   "cell_type": "code",
   "execution_count": 27,
   "metadata": {},
   "outputs": [
    {
     "name": "stdout",
     "output_type": "stream",
     "text": [
      "('NaN count:', 0, 'Unique count:', 104)\n",
      "('Max:', 506.0, 'Min:', 9.0)\n",
      "('Median', 60.0, 'Mean:', 68.65342163355409, 'Std:', 45.23342908064752)\n"
     ]
    },
    {
     "data": {
      "image/png": "[encoded data removed]",
      "text/plain": [
       "<Figure size 576x360 with 1 Axes>"
      ]
     },
     "metadata": {
      "needs_background": "light"
     },
     "output_type": "display_data"
    },
    {
     "name": "stderr",
     "output_type": "stream",
     "text": [
      "/home/maxime/anaconda3/envs/tf-gpu/lib/python3.7/site-packages/matplotlib/axes/_axes.py:6521: MatplotlibDeprecationWarning:\n",
      "\n",
      "\n",
      "The 'normed' kwarg was deprecated in Matplotlib 2.1 and will be removed in 3.1. Use 'density' instead.\n",
      "\n"
     ]
    },
    {
     "data": {
      "image/png": "[encoded data removed]",
      "text/plain": [
       "<Figure size 432x288 with 1 Axes>"
      ]
     },
     "metadata": {
      "needs_background": "light"
     },
     "output_type": "display_data"
    },
    {
     "data": {
      "image/png": "[encoded data removed]",
      "text/plain": [
       "<Figure size 576x360 with 1 Axes>"
      ]
     },
     "metadata": {
      "needs_background": "light"
     },
     "output_type": "display_data"
    }
   ],
   "source": [
    "plot_col_distribution(df_list_sum_tronc, ['price'])"
   ]
  },
  {
   "cell_type": "code",
   "execution_count": 28,
   "metadata": {},
   "outputs": [
    {
     "name": "stdout",
     "output_type": "stream",
     "text": [
      "Out of 453 columns, the columns with most missing values are :\n",
      "square_feet                     286\n",
      "security_deposit                114\n",
      "cleaning_fee                     48\n",
      "bathrooms                        12\n",
      "space                             6\n",
      "description                       1\n",
      "bedrooms                          1\n",
      "accommodates                      0\n",
      "host_has_profile_pic              0\n",
      "neighbourhood_group_cleansed      0\n",
      "dtype: int64\n"
     ]
    }
   ],
   "source": [
    "plot_cols_with_NaNs(df_list_sum_tronc, 10)"
   ]
  },
  {
   "cell_type": "markdown",
   "metadata": {},
   "source": [
    "Following this, we can remove the columns with too many missing values"
   ]
  },
  {
   "cell_type": "code",
   "execution_count": 29,
   "metadata": {},
   "outputs": [],
   "source": [
    "df_list_sum_tronc = pd_col_remove(df_list_sum_tronc, ['square_feet'])"
   ]
  },
  {
   "cell_type": "code",
   "execution_count": 30,
   "metadata": {},
   "outputs": [
    {
     "data": {
      "image/png": "[encoded data removed]",
      "text/plain": [
       "<Figure size 432x288 with 2 Axes>"
      ]
     },
     "metadata": {
      "needs_background": "light"
     },
     "output_type": "display_data"
    }
   ],
   "source": [
    "plot_col_correl_matrix(df_list_sum_tronc, df_list_sum_tronc.columns, annot=False)"
   ]
  },
  {
   "cell_type": "code",
   "execution_count": 31,
   "metadata": {},
   "outputs": [
    {
     "name": "stdout",
     "output_type": "stream",
     "text": [
      "Most correlated features to ['price'] are: \n",
      "                    price\n",
      "price            1.000000\n",
      "guests_included  0.607970\n",
      "accommodates     0.543297\n",
      "cleaning_fee     0.480775\n",
      "bedrooms         0.475310\n"
     ]
    }
   ],
   "source": [
    "plot_col_correl_target(df_list_sum_tronc, df_list_sum_tronc.columns, ['price'], nb_to_show=5, ascending=False)"
   ]
  },
  {
   "cell_type": "code",
   "execution_count": 32,
   "metadata": {},
   "outputs": [
    {
     "name": "stdout",
     "output_type": "stream",
     "text": [
      "Least correlated features to ['price'] are: \n",
      "                     price\n",
      "minimum_nights   -0.094441\n",
      "longitude         0.030188\n",
      "latitude          0.074112\n",
      "security_deposit  0.153548\n",
      "extra_people      0.302841\n"
     ]
    }
   ],
   "source": [
    "plot_col_correl_target(df_list_sum_tronc, df_list_sum_tronc.columns, ['price'], nb_to_show=5, ascending=True)"
   ]
  },
  {
   "cell_type": "markdown",
   "metadata": {},
   "source": [
    "__Feature Engineering__"
   ]
  },
  {
   "cell_type": "code",
   "execution_count": 33,
   "metadata": {},
   "outputs": [],
   "source": [
    "# Calculating the distance from the appartement to the center of Berlin\n",
    "\n",
    "berlin_center = (52.5027778, 13.404166666666667)\n",
    "df_list_sum_tronc = pd_col_add_distance_to_point(df_list_sum_tronc, berlin_center)"
   ]
  },
  {
   "cell_type": "code",
   "execution_count": 34,
   "metadata": {},
   "outputs": [
    {
     "data": {
      "text/html": [
       "<div>\n",
       "<style scoped>\n",
       "    .dataframe tbody tr th:only-of-type {\n",
       "        vertical-align: middle;\n",
       "    }\n",
       "\n",
       "    .dataframe tbody tr th {\n",
       "        vertical-align: top;\n",
       "    }\n",
       "\n",
       "    .dataframe thead th {\n",
       "        text-align: right;\n",
       "    }\n",
       "</style>\n",
       "<table border=\"1\" class=\"dataframe\">\n",
       "  <thead>\n",
       "    <tr style=\"text-align: right;\">\n",
       "      <th></th>\n",
       "      <th>space</th>\n",
       "      <th>description</th>\n",
       "      <th>host_has_profile_pic</th>\n",
       "      <th>neighbourhood_group_cleansed</th>\n",
       "      <th>latitude</th>\n",
       "      <th>longitude</th>\n",
       "      <th>property_type</th>\n",
       "      <th>room_type</th>\n",
       "      <th>accommodates</th>\n",
       "      <th>bathrooms</th>\n",
       "      <th>...</th>\n",
       "      <th>price</th>\n",
       "      <th>cleaning_fee</th>\n",
       "      <th>security_deposit</th>\n",
       "      <th>extra_people</th>\n",
       "      <th>guests_included</th>\n",
       "      <th>minimum_nights</th>\n",
       "      <th>instant_bookable</th>\n",
       "      <th>is_business_travel_ready</th>\n",
       "      <th>cancellation_policy</th>\n",
       "      <th>distance</th>\n",
       "    </tr>\n",
       "    <tr>\n",
       "      <th>id</th>\n",
       "      <th></th>\n",
       "      <th></th>\n",
       "      <th></th>\n",
       "      <th></th>\n",
       "      <th></th>\n",
       "      <th></th>\n",
       "      <th></th>\n",
       "      <th></th>\n",
       "      <th></th>\n",
       "      <th></th>\n",
       "      <th></th>\n",
       "      <th></th>\n",
       "      <th></th>\n",
       "      <th></th>\n",
       "      <th></th>\n",
       "      <th></th>\n",
       "      <th></th>\n",
       "      <th></th>\n",
       "      <th></th>\n",
       "      <th></th>\n",
       "      <th></th>\n",
       "    </tr>\n",
       "  </thead>\n",
       "  <tbody>\n",
       "    <tr>\n",
       "      <th>2015</th>\n",
       "      <td>A+++ location! This „Einliegerwohnung“ is an e...</td>\n",
       "      <td>Great location!  30 of 75 sq meters. This wood...</td>\n",
       "      <td>t</td>\n",
       "      <td>Mitte</td>\n",
       "      <td>52.534537</td>\n",
       "      <td>13.402557</td>\n",
       "      <td>Guesthouse</td>\n",
       "      <td>Entire home/apt</td>\n",
       "      <td>3</td>\n",
       "      <td>1.0</td>\n",
       "      <td>...</td>\n",
       "      <td>60.0</td>\n",
       "      <td>30.0</td>\n",
       "      <td>200.0</td>\n",
       "      <td>28.0</td>\n",
       "      <td>1</td>\n",
       "      <td>4</td>\n",
       "      <td>f</td>\n",
       "      <td>f</td>\n",
       "      <td>strict_14_with_grace_period</td>\n",
       "      <td>3.533</td>\n",
       "    </tr>\n",
       "  </tbody>\n",
       "</table>\n",
       "<p>1 rows × 23 columns</p>\n",
       "</div>"
      ],
      "text/plain": [
       "                                                  space  \\\n",
       "id                                                        \n",
       "2015  A+++ location! This „Einliegerwohnung“ is an e...   \n",
       "\n",
       "                                            description host_has_profile_pic  \\\n",
       "id                                                                             \n",
       "2015  Great location!  30 of 75 sq meters. This wood...                    t   \n",
       "\n",
       "     neighbourhood_group_cleansed   latitude  longitude property_type  \\\n",
       "id                                                                      \n",
       "2015                        Mitte  52.534537  13.402557    Guesthouse   \n",
       "\n",
       "            room_type  accommodates  bathrooms  ...  price cleaning_fee  \\\n",
       "id                                              ...                       \n",
       "2015  Entire home/apt             3        1.0  ...   60.0         30.0   \n",
       "\n",
       "     security_deposit  extra_people  guests_included  minimum_nights  \\\n",
       "id                                                                     \n",
       "2015            200.0          28.0                1               4   \n",
       "\n",
       "      instant_bookable  is_business_travel_ready          cancellation_policy  \\\n",
       "id                                                                              \n",
       "2015                 f                         f  strict_14_with_grace_period   \n",
       "\n",
       "     distance  \n",
       "id             \n",
       "2015    3.533  \n",
       "\n",
       "[1 rows x 23 columns]"
      ]
     },
     "execution_count": 34,
     "metadata": {},
     "output_type": "execute_result"
    }
   ],
   "source": [
    "df_list_sum_tronc.head(1)"
   ]
  },
  {
   "cell_type": "code",
   "execution_count": 35,
   "metadata": {},
   "outputs": [
    {
     "name": "stdout",
     "output_type": "stream",
     "text": [
      "('Heating', 448)\n",
      "('Wifi', 434)\n",
      "('Kitchen', 417)\n",
      "('Essentials', 362)\n",
      "('Washer', 358)\n",
      "('Internet', 349)\n",
      "('Hair dryer', 340)\n",
      "('Hangers', 310)\n",
      "('TV', 305)\n",
      "('Hot water', 291)\n",
      "('Buzzer/wireless intercom', 283)\n",
      "('Laptop friendly workspace', 279)\n",
      "('Family/kid friendly', 274)\n",
      "('Iron', 272)\n",
      "('Shampoo', 198)\n",
      "('Host greets you', 195)\n",
      "('Cable TV', 170)\n",
      "('Smoke detector', 169)\n",
      "('Bed linens', 152)\n",
      "('Free street parking', 147)\n",
      "('Refrigerator', 142)\n",
      "('Dishes and silverware', 139)\n",
      "('Long term stays allowed', 139)\n",
      "('Cooking basics', 132)\n",
      "('Stove', 129)\n",
      "('Dryer', 124)\n",
      "('Coffee maker', 114)\n",
      "('translation missing: en.hosting_amenity_50', 113)\n",
      "('Luggage dropoff allowed', 111)\n",
      "('Elevator', 104)\n"
     ]
    }
   ],
   "source": [
    "plot_col_frequency_text_appears(df_list_sum_tronc, ['amenities'], nb_to_show=30)"
   ]
  },
  {
   "cell_type": "code",
   "execution_count": 36,
   "metadata": {},
   "outputs": [
    {
     "name": "stdout",
     "output_type": "stream",
     "text": [
      "Wifi 2 (453, 24)\n",
      "Laptop friendly workspace 2 (453, 25)\n",
      "TV 2 (453, 26)\n",
      "Free street parking 2 (453, 27)\n",
      "Elevator 2 (453, 28)\n",
      "Family/kid friendly 2 (453, 29)\n"
     ]
    }
   ],
   "source": [
    "# Add One hot encoding for some features in the appartment from what is inside 'amenities'\n",
    "\n",
    "df_list_sum_tronc = pd_col_add_col_from_comment(df_list_sum_tronc, 'Wifi', 'amenities')\n",
    "df_list_sum_tronc = pd_col_add_col_from_comment(df_list_sum_tronc, 'Laptop friendly workspace', 'amenities')\n",
    "df_list_sum_tronc = pd_col_add_col_from_comment(df_list_sum_tronc, 'TV', 'amenities')\n",
    "df_list_sum_tronc = pd_col_add_col_from_comment(df_list_sum_tronc, 'Free street parking', 'amenities')\n",
    "df_list_sum_tronc = pd_col_add_col_from_comment(df_list_sum_tronc, 'Elevator', 'amenities')\n",
    "df_list_sum_tronc = pd_col_add_col_from_comment(df_list_sum_tronc, 'Family/kid friendly', 'amenities')"
   ]
  },
  {
   "cell_type": "code",
   "execution_count": 37,
   "metadata": {},
   "outputs": [],
   "source": [
    "# After that, just drop 'amenities' col:\n",
    "df_list_sum_tronc = pd_col_remove(df_list_sum_tronc, ['amenities'])"
   ]
  },
  {
   "cell_type": "code",
   "execution_count": null,
   "metadata": {},
   "outputs": [],
   "source": []
  },
  {
   "cell_type": "code",
   "execution_count": null,
   "metadata": {},
   "outputs": [],
   "source": []
  }
 ],
 "metadata": {
  "kernelspec": {
   "display_name": "Python 3",
   "language": "python",
   "name": "python3"
  },
  "language_info": {
   "codemirror_mode": {
    "name": "ipython",
    "version": 3
   },
   "file_extension": ".py",
   "mimetype": "text/x-python",
   "name": "python",
   "nbconvert_exporter": "python",
   "pygments_lexer": "ipython3",
   "version": "3.7.3"
  }
 },
 "nbformat": 4,
 "nbformat_minor": 2
}
